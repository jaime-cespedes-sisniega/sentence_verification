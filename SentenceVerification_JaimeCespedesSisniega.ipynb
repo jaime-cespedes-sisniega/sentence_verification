{
  "nbformat": 4,
  "nbformat_minor": 0,
  "metadata": {
    "colab": {
      "name": "SentenceVerification_JaimeCespedesSisniega.ipynb",
      "provenance": [],
      "collapsed_sections": []
    },
    "kernelspec": {
      "name": "python3",
      "display_name": "Python 3"
    },
    "accelerator": "GPU",
    "widgets": {
      "application/vnd.jupyter.widget-state+json": {
        "fcebf851531747529724a1380809dbf4": {
          "model_module": "@jupyter-widgets/controls",
          "model_name": "HBoxModel",
          "state": {
            "_view_name": "HBoxView",
            "_dom_classes": [],
            "_model_name": "HBoxModel",
            "_view_module": "@jupyter-widgets/controls",
            "_model_module_version": "1.5.0",
            "_view_count": null,
            "_view_module_version": "1.5.0",
            "box_style": "",
            "layout": "IPY_MODEL_74eccf6de6dc4624b63348fb7fad0d15",
            "_model_module": "@jupyter-widgets/controls",
            "children": [
              "IPY_MODEL_a82138a542734dcdb7302390f32c1a79",
              "IPY_MODEL_10d259a235804ba9a7efea3cedf7e915"
            ]
          }
        },
        "74eccf6de6dc4624b63348fb7fad0d15": {
          "model_module": "@jupyter-widgets/base",
          "model_name": "LayoutModel",
          "state": {
            "_view_name": "LayoutView",
            "grid_template_rows": null,
            "right": null,
            "justify_content": null,
            "_view_module": "@jupyter-widgets/base",
            "overflow": null,
            "_model_module_version": "1.2.0",
            "_view_count": null,
            "flex_flow": null,
            "width": null,
            "min_width": null,
            "border": null,
            "align_items": null,
            "bottom": null,
            "_model_module": "@jupyter-widgets/base",
            "top": null,
            "grid_column": null,
            "overflow_y": null,
            "overflow_x": null,
            "grid_auto_flow": null,
            "grid_area": null,
            "grid_template_columns": null,
            "flex": null,
            "_model_name": "LayoutModel",
            "justify_items": null,
            "grid_row": null,
            "max_height": null,
            "align_content": null,
            "visibility": null,
            "align_self": null,
            "height": null,
            "min_height": null,
            "padding": null,
            "grid_auto_rows": null,
            "grid_gap": null,
            "max_width": null,
            "order": null,
            "_view_module_version": "1.2.0",
            "grid_template_areas": null,
            "object_position": null,
            "object_fit": null,
            "grid_auto_columns": null,
            "margin": null,
            "display": null,
            "left": null
          }
        },
        "a82138a542734dcdb7302390f32c1a79": {
          "model_module": "@jupyter-widgets/controls",
          "model_name": "FloatProgressModel",
          "state": {
            "_view_name": "ProgressView",
            "style": "IPY_MODEL_668d3be0322b42fb9f9d946bacc68a26",
            "_dom_classes": [],
            "description": "Downloading: 100%",
            "_model_name": "FloatProgressModel",
            "bar_style": "success",
            "max": 5069051,
            "_view_module": "@jupyter-widgets/controls",
            "_model_module_version": "1.5.0",
            "value": 5069051,
            "_view_count": null,
            "_view_module_version": "1.5.0",
            "orientation": "horizontal",
            "min": 0,
            "description_tooltip": null,
            "_model_module": "@jupyter-widgets/controls",
            "layout": "IPY_MODEL_51f107d1464b486d9c4ca2899aa7159e"
          }
        },
        "10d259a235804ba9a7efea3cedf7e915": {
          "model_module": "@jupyter-widgets/controls",
          "model_name": "HTMLModel",
          "state": {
            "_view_name": "HTMLView",
            "style": "IPY_MODEL_60e2a9385cd847d18ef7bafb8b8c099c",
            "_dom_classes": [],
            "description": "",
            "_model_name": "HTMLModel",
            "placeholder": "​",
            "_view_module": "@jupyter-widgets/controls",
            "_model_module_version": "1.5.0",
            "value": " 5.07M/5.07M [00:01&lt;00:00, 4.69MB/s]",
            "_view_count": null,
            "_view_module_version": "1.5.0",
            "description_tooltip": null,
            "_model_module": "@jupyter-widgets/controls",
            "layout": "IPY_MODEL_9d7e8feef3054975ae718683335a93b2"
          }
        },
        "668d3be0322b42fb9f9d946bacc68a26": {
          "model_module": "@jupyter-widgets/controls",
          "model_name": "ProgressStyleModel",
          "state": {
            "_view_name": "StyleView",
            "_model_name": "ProgressStyleModel",
            "description_width": "initial",
            "_view_module": "@jupyter-widgets/base",
            "_model_module_version": "1.5.0",
            "_view_count": null,
            "_view_module_version": "1.2.0",
            "bar_color": null,
            "_model_module": "@jupyter-widgets/controls"
          }
        },
        "51f107d1464b486d9c4ca2899aa7159e": {
          "model_module": "@jupyter-widgets/base",
          "model_name": "LayoutModel",
          "state": {
            "_view_name": "LayoutView",
            "grid_template_rows": null,
            "right": null,
            "justify_content": null,
            "_view_module": "@jupyter-widgets/base",
            "overflow": null,
            "_model_module_version": "1.2.0",
            "_view_count": null,
            "flex_flow": null,
            "width": null,
            "min_width": null,
            "border": null,
            "align_items": null,
            "bottom": null,
            "_model_module": "@jupyter-widgets/base",
            "top": null,
            "grid_column": null,
            "overflow_y": null,
            "overflow_x": null,
            "grid_auto_flow": null,
            "grid_area": null,
            "grid_template_columns": null,
            "flex": null,
            "_model_name": "LayoutModel",
            "justify_items": null,
            "grid_row": null,
            "max_height": null,
            "align_content": null,
            "visibility": null,
            "align_self": null,
            "height": null,
            "min_height": null,
            "padding": null,
            "grid_auto_rows": null,
            "grid_gap": null,
            "max_width": null,
            "order": null,
            "_view_module_version": "1.2.0",
            "grid_template_areas": null,
            "object_position": null,
            "object_fit": null,
            "grid_auto_columns": null,
            "margin": null,
            "display": null,
            "left": null
          }
        },
        "60e2a9385cd847d18ef7bafb8b8c099c": {
          "model_module": "@jupyter-widgets/controls",
          "model_name": "DescriptionStyleModel",
          "state": {
            "_view_name": "StyleView",
            "_model_name": "DescriptionStyleModel",
            "description_width": "",
            "_view_module": "@jupyter-widgets/base",
            "_model_module_version": "1.5.0",
            "_view_count": null,
            "_view_module_version": "1.2.0",
            "_model_module": "@jupyter-widgets/controls"
          }
        },
        "9d7e8feef3054975ae718683335a93b2": {
          "model_module": "@jupyter-widgets/base",
          "model_name": "LayoutModel",
          "state": {
            "_view_name": "LayoutView",
            "grid_template_rows": null,
            "right": null,
            "justify_content": null,
            "_view_module": "@jupyter-widgets/base",
            "overflow": null,
            "_model_module_version": "1.2.0",
            "_view_count": null,
            "flex_flow": null,
            "width": null,
            "min_width": null,
            "border": null,
            "align_items": null,
            "bottom": null,
            "_model_module": "@jupyter-widgets/base",
            "top": null,
            "grid_column": null,
            "overflow_y": null,
            "overflow_x": null,
            "grid_auto_flow": null,
            "grid_area": null,
            "grid_template_columns": null,
            "flex": null,
            "_model_name": "LayoutModel",
            "justify_items": null,
            "grid_row": null,
            "max_height": null,
            "align_content": null,
            "visibility": null,
            "align_self": null,
            "height": null,
            "min_height": null,
            "padding": null,
            "grid_auto_rows": null,
            "grid_gap": null,
            "max_width": null,
            "order": null,
            "_view_module_version": "1.2.0",
            "grid_template_areas": null,
            "object_position": null,
            "object_fit": null,
            "grid_auto_columns": null,
            "margin": null,
            "display": null,
            "left": null
          }
        },
        "adfa94dc4463437ebf95dc3a09df322f": {
          "model_module": "@jupyter-widgets/controls",
          "model_name": "HBoxModel",
          "state": {
            "_view_name": "HBoxView",
            "_dom_classes": [],
            "_model_name": "HBoxModel",
            "_view_module": "@jupyter-widgets/controls",
            "_model_module_version": "1.5.0",
            "_view_count": null,
            "_view_module_version": "1.5.0",
            "box_style": "",
            "layout": "IPY_MODEL_ee4e39b8f3f24422889a2be5e295c8b6",
            "_model_module": "@jupyter-widgets/controls",
            "children": [
              "IPY_MODEL_bddae3b60dbf4f8e9a4c35635bedb131",
              "IPY_MODEL_7b5954833c5741c5854343d3242a5d34"
            ]
          }
        },
        "ee4e39b8f3f24422889a2be5e295c8b6": {
          "model_module": "@jupyter-widgets/base",
          "model_name": "LayoutModel",
          "state": {
            "_view_name": "LayoutView",
            "grid_template_rows": null,
            "right": null,
            "justify_content": null,
            "_view_module": "@jupyter-widgets/base",
            "overflow": null,
            "_model_module_version": "1.2.0",
            "_view_count": null,
            "flex_flow": null,
            "width": null,
            "min_width": null,
            "border": null,
            "align_items": null,
            "bottom": null,
            "_model_module": "@jupyter-widgets/base",
            "top": null,
            "grid_column": null,
            "overflow_y": null,
            "overflow_x": null,
            "grid_auto_flow": null,
            "grid_area": null,
            "grid_template_columns": null,
            "flex": null,
            "_model_name": "LayoutModel",
            "justify_items": null,
            "grid_row": null,
            "max_height": null,
            "align_content": null,
            "visibility": null,
            "align_self": null,
            "height": null,
            "min_height": null,
            "padding": null,
            "grid_auto_rows": null,
            "grid_gap": null,
            "max_width": null,
            "order": null,
            "_view_module_version": "1.2.0",
            "grid_template_areas": null,
            "object_position": null,
            "object_fit": null,
            "grid_auto_columns": null,
            "margin": null,
            "display": null,
            "left": null
          }
        },
        "bddae3b60dbf4f8e9a4c35635bedb131": {
          "model_module": "@jupyter-widgets/controls",
          "model_name": "FloatProgressModel",
          "state": {
            "_view_name": "ProgressView",
            "style": "IPY_MODEL_e1351bc830c6483fb19b566652c619a5",
            "_dom_classes": [],
            "description": "Downloading: 100%",
            "_model_name": "FloatProgressModel",
            "bar_style": "success",
            "max": 512,
            "_view_module": "@jupyter-widgets/controls",
            "_model_module_version": "1.5.0",
            "value": 512,
            "_view_count": null,
            "_view_module_version": "1.5.0",
            "orientation": "horizontal",
            "min": 0,
            "description_tooltip": null,
            "_model_module": "@jupyter-widgets/controls",
            "layout": "IPY_MODEL_e9fb3af150c14831bbefa788f586aea5"
          }
        },
        "7b5954833c5741c5854343d3242a5d34": {
          "model_module": "@jupyter-widgets/controls",
          "model_name": "HTMLModel",
          "state": {
            "_view_name": "HTMLView",
            "style": "IPY_MODEL_e81183f5176a4029b9c13295de79009f",
            "_dom_classes": [],
            "description": "",
            "_model_name": "HTMLModel",
            "placeholder": "​",
            "_view_module": "@jupyter-widgets/controls",
            "_model_module_version": "1.5.0",
            "value": " 512/512 [00:00&lt;00:00, 3.32kB/s]",
            "_view_count": null,
            "_view_module_version": "1.5.0",
            "description_tooltip": null,
            "_model_module": "@jupyter-widgets/controls",
            "layout": "IPY_MODEL_e5756b9b505c4ea3b4c1574e5360cc68"
          }
        },
        "e1351bc830c6483fb19b566652c619a5": {
          "model_module": "@jupyter-widgets/controls",
          "model_name": "ProgressStyleModel",
          "state": {
            "_view_name": "StyleView",
            "_model_name": "ProgressStyleModel",
            "description_width": "initial",
            "_view_module": "@jupyter-widgets/base",
            "_model_module_version": "1.5.0",
            "_view_count": null,
            "_view_module_version": "1.2.0",
            "bar_color": null,
            "_model_module": "@jupyter-widgets/controls"
          }
        },
        "e9fb3af150c14831bbefa788f586aea5": {
          "model_module": "@jupyter-widgets/base",
          "model_name": "LayoutModel",
          "state": {
            "_view_name": "LayoutView",
            "grid_template_rows": null,
            "right": null,
            "justify_content": null,
            "_view_module": "@jupyter-widgets/base",
            "overflow": null,
            "_model_module_version": "1.2.0",
            "_view_count": null,
            "flex_flow": null,
            "width": null,
            "min_width": null,
            "border": null,
            "align_items": null,
            "bottom": null,
            "_model_module": "@jupyter-widgets/base",
            "top": null,
            "grid_column": null,
            "overflow_y": null,
            "overflow_x": null,
            "grid_auto_flow": null,
            "grid_area": null,
            "grid_template_columns": null,
            "flex": null,
            "_model_name": "LayoutModel",
            "justify_items": null,
            "grid_row": null,
            "max_height": null,
            "align_content": null,
            "visibility": null,
            "align_self": null,
            "height": null,
            "min_height": null,
            "padding": null,
            "grid_auto_rows": null,
            "grid_gap": null,
            "max_width": null,
            "order": null,
            "_view_module_version": "1.2.0",
            "grid_template_areas": null,
            "object_position": null,
            "object_fit": null,
            "grid_auto_columns": null,
            "margin": null,
            "display": null,
            "left": null
          }
        },
        "e81183f5176a4029b9c13295de79009f": {
          "model_module": "@jupyter-widgets/controls",
          "model_name": "DescriptionStyleModel",
          "state": {
            "_view_name": "StyleView",
            "_model_name": "DescriptionStyleModel",
            "description_width": "",
            "_view_module": "@jupyter-widgets/base",
            "_model_module_version": "1.5.0",
            "_view_count": null,
            "_view_module_version": "1.2.0",
            "_model_module": "@jupyter-widgets/controls"
          }
        },
        "e5756b9b505c4ea3b4c1574e5360cc68": {
          "model_module": "@jupyter-widgets/base",
          "model_name": "LayoutModel",
          "state": {
            "_view_name": "LayoutView",
            "grid_template_rows": null,
            "right": null,
            "justify_content": null,
            "_view_module": "@jupyter-widgets/base",
            "overflow": null,
            "_model_module_version": "1.2.0",
            "_view_count": null,
            "flex_flow": null,
            "width": null,
            "min_width": null,
            "border": null,
            "align_items": null,
            "bottom": null,
            "_model_module": "@jupyter-widgets/base",
            "top": null,
            "grid_column": null,
            "overflow_y": null,
            "overflow_x": null,
            "grid_auto_flow": null,
            "grid_area": null,
            "grid_template_columns": null,
            "flex": null,
            "_model_name": "LayoutModel",
            "justify_items": null,
            "grid_row": null,
            "max_height": null,
            "align_content": null,
            "visibility": null,
            "align_self": null,
            "height": null,
            "min_height": null,
            "padding": null,
            "grid_auto_rows": null,
            "grid_gap": null,
            "max_width": null,
            "order": null,
            "_view_module_version": "1.2.0",
            "grid_template_areas": null,
            "object_position": null,
            "object_fit": null,
            "grid_auto_columns": null,
            "margin": null,
            "display": null,
            "left": null
          }
        },
        "bebe1d733e4e447dba1d83bf474e5f7e": {
          "model_module": "@jupyter-widgets/controls",
          "model_name": "HBoxModel",
          "state": {
            "_view_name": "HBoxView",
            "_dom_classes": [],
            "_model_name": "HBoxModel",
            "_view_module": "@jupyter-widgets/controls",
            "_model_module_version": "1.5.0",
            "_view_count": null,
            "_view_module_version": "1.5.0",
            "box_style": "",
            "layout": "IPY_MODEL_cc28beca3de643d1896f7c16b9ecf201",
            "_model_module": "@jupyter-widgets/controls",
            "children": [
              "IPY_MODEL_ad12d35c9e5b4063b16a333a36c63bb1",
              "IPY_MODEL_4418a7796eea40de89f63bae311cf12b"
            ]
          }
        },
        "cc28beca3de643d1896f7c16b9ecf201": {
          "model_module": "@jupyter-widgets/base",
          "model_name": "LayoutModel",
          "state": {
            "_view_name": "LayoutView",
            "grid_template_rows": null,
            "right": null,
            "justify_content": null,
            "_view_module": "@jupyter-widgets/base",
            "overflow": null,
            "_model_module_version": "1.2.0",
            "_view_count": null,
            "flex_flow": null,
            "width": null,
            "min_width": null,
            "border": null,
            "align_items": null,
            "bottom": null,
            "_model_module": "@jupyter-widgets/base",
            "top": null,
            "grid_column": null,
            "overflow_y": null,
            "overflow_x": null,
            "grid_auto_flow": null,
            "grid_area": null,
            "grid_template_columns": null,
            "flex": null,
            "_model_name": "LayoutModel",
            "justify_items": null,
            "grid_row": null,
            "max_height": null,
            "align_content": null,
            "visibility": null,
            "align_self": null,
            "height": null,
            "min_height": null,
            "padding": null,
            "grid_auto_rows": null,
            "grid_gap": null,
            "max_width": null,
            "order": null,
            "_view_module_version": "1.2.0",
            "grid_template_areas": null,
            "object_position": null,
            "object_fit": null,
            "grid_auto_columns": null,
            "margin": null,
            "display": null,
            "left": null
          }
        },
        "ad12d35c9e5b4063b16a333a36c63bb1": {
          "model_module": "@jupyter-widgets/controls",
          "model_name": "FloatProgressModel",
          "state": {
            "_view_name": "ProgressView",
            "style": "IPY_MODEL_114fe3cfa10a4c2c9189fd93813a0f95",
            "_dom_classes": [],
            "description": "Downloading: 100%",
            "_model_name": "FloatProgressModel",
            "bar_style": "success",
            "max": 1115590446,
            "_view_module": "@jupyter-widgets/controls",
            "_model_module_version": "1.5.0",
            "value": 1115590446,
            "_view_count": null,
            "_view_module_version": "1.5.0",
            "orientation": "horizontal",
            "min": 0,
            "description_tooltip": null,
            "_model_module": "@jupyter-widgets/controls",
            "layout": "IPY_MODEL_183b20f90a984dbb87643e49684de36b"
          }
        },
        "4418a7796eea40de89f63bae311cf12b": {
          "model_module": "@jupyter-widgets/controls",
          "model_name": "HTMLModel",
          "state": {
            "_view_name": "HTMLView",
            "style": "IPY_MODEL_ce8ab35fc77842efa5bffdcdb7b43a5e",
            "_dom_classes": [],
            "description": "",
            "_model_name": "HTMLModel",
            "placeholder": "​",
            "_view_module": "@jupyter-widgets/controls",
            "_model_module_version": "1.5.0",
            "value": " 1.12G/1.12G [00:26&lt;00:00, 41.7MB/s]",
            "_view_count": null,
            "_view_module_version": "1.5.0",
            "description_tooltip": null,
            "_model_module": "@jupyter-widgets/controls",
            "layout": "IPY_MODEL_99d90d5fe00140cb8a94e7c4f1d2c0aa"
          }
        },
        "114fe3cfa10a4c2c9189fd93813a0f95": {
          "model_module": "@jupyter-widgets/controls",
          "model_name": "ProgressStyleModel",
          "state": {
            "_view_name": "StyleView",
            "_model_name": "ProgressStyleModel",
            "description_width": "initial",
            "_view_module": "@jupyter-widgets/base",
            "_model_module_version": "1.5.0",
            "_view_count": null,
            "_view_module_version": "1.2.0",
            "bar_color": null,
            "_model_module": "@jupyter-widgets/controls"
          }
        },
        "183b20f90a984dbb87643e49684de36b": {
          "model_module": "@jupyter-widgets/base",
          "model_name": "LayoutModel",
          "state": {
            "_view_name": "LayoutView",
            "grid_template_rows": null,
            "right": null,
            "justify_content": null,
            "_view_module": "@jupyter-widgets/base",
            "overflow": null,
            "_model_module_version": "1.2.0",
            "_view_count": null,
            "flex_flow": null,
            "width": null,
            "min_width": null,
            "border": null,
            "align_items": null,
            "bottom": null,
            "_model_module": "@jupyter-widgets/base",
            "top": null,
            "grid_column": null,
            "overflow_y": null,
            "overflow_x": null,
            "grid_auto_flow": null,
            "grid_area": null,
            "grid_template_columns": null,
            "flex": null,
            "_model_name": "LayoutModel",
            "justify_items": null,
            "grid_row": null,
            "max_height": null,
            "align_content": null,
            "visibility": null,
            "align_self": null,
            "height": null,
            "min_height": null,
            "padding": null,
            "grid_auto_rows": null,
            "grid_gap": null,
            "max_width": null,
            "order": null,
            "_view_module_version": "1.2.0",
            "grid_template_areas": null,
            "object_position": null,
            "object_fit": null,
            "grid_auto_columns": null,
            "margin": null,
            "display": null,
            "left": null
          }
        },
        "ce8ab35fc77842efa5bffdcdb7b43a5e": {
          "model_module": "@jupyter-widgets/controls",
          "model_name": "DescriptionStyleModel",
          "state": {
            "_view_name": "StyleView",
            "_model_name": "DescriptionStyleModel",
            "description_width": "",
            "_view_module": "@jupyter-widgets/base",
            "_model_module_version": "1.5.0",
            "_view_count": null,
            "_view_module_version": "1.2.0",
            "_model_module": "@jupyter-widgets/controls"
          }
        },
        "99d90d5fe00140cb8a94e7c4f1d2c0aa": {
          "model_module": "@jupyter-widgets/base",
          "model_name": "LayoutModel",
          "state": {
            "_view_name": "LayoutView",
            "grid_template_rows": null,
            "right": null,
            "justify_content": null,
            "_view_module": "@jupyter-widgets/base",
            "overflow": null,
            "_model_module_version": "1.2.0",
            "_view_count": null,
            "flex_flow": null,
            "width": null,
            "min_width": null,
            "border": null,
            "align_items": null,
            "bottom": null,
            "_model_module": "@jupyter-widgets/base",
            "top": null,
            "grid_column": null,
            "overflow_y": null,
            "overflow_x": null,
            "grid_auto_flow": null,
            "grid_area": null,
            "grid_template_columns": null,
            "flex": null,
            "_model_name": "LayoutModel",
            "justify_items": null,
            "grid_row": null,
            "max_height": null,
            "align_content": null,
            "visibility": null,
            "align_self": null,
            "height": null,
            "min_height": null,
            "padding": null,
            "grid_auto_rows": null,
            "grid_gap": null,
            "max_width": null,
            "order": null,
            "_view_module_version": "1.2.0",
            "grid_template_areas": null,
            "object_position": null,
            "object_fit": null,
            "grid_auto_columns": null,
            "margin": null,
            "display": null,
            "left": null
          }
        }
      }
    }
  },
  "cells": [
    {
      "cell_type": "markdown",
      "metadata": {
        "id": "CXhvyGI3sRTH"
      },
      "source": [
        "Installation of missing libraries. In this case we need to install transformers."
      ]
    },
    {
      "cell_type": "code",
      "metadata": {
        "id": "LFhvbOJWr0o3",
        "outputId": "8bbd378d-8812-471b-fa69-b546e83bb13d",
        "colab": {
          "base_uri": "https://localhost:8080/",
          "height": 627
        }
      },
      "source": [
        "!pip install transformers"
      ],
      "execution_count": 2,
      "outputs": [
        {
          "output_type": "stream",
          "text": [
            "Collecting transformers\n",
            "\u001b[?25l  Downloading https://files.pythonhosted.org/packages/19/22/aff234f4a841f8999e68a7a94bdd4b60b4cebcfeca5d67d61cd08c9179de/transformers-3.3.1-py3-none-any.whl (1.1MB)\n",
            "\r\u001b[K     |▎                               | 10kB 19.0MB/s eta 0:00:01\r\u001b[K     |▋                               | 20kB 2.8MB/s eta 0:00:01\r\u001b[K     |█                               | 30kB 3.6MB/s eta 0:00:01\r\u001b[K     |█▎                              | 40kB 4.0MB/s eta 0:00:01\r\u001b[K     |█▌                              | 51kB 3.3MB/s eta 0:00:01\r\u001b[K     |█▉                              | 61kB 3.8MB/s eta 0:00:01\r\u001b[K     |██▏                             | 71kB 4.0MB/s eta 0:00:01\r\u001b[K     |██▌                             | 81kB 4.4MB/s eta 0:00:01\r\u001b[K     |██▉                             | 92kB 4.7MB/s eta 0:00:01\r\u001b[K     |███                             | 102kB 4.5MB/s eta 0:00:01\r\u001b[K     |███▍                            | 112kB 4.5MB/s eta 0:00:01\r\u001b[K     |███▊                            | 122kB 4.5MB/s eta 0:00:01\r\u001b[K     |████                            | 133kB 4.5MB/s eta 0:00:01\r\u001b[K     |████▎                           | 143kB 4.5MB/s eta 0:00:01\r\u001b[K     |████▋                           | 153kB 4.5MB/s eta 0:00:01\r\u001b[K     |█████                           | 163kB 4.5MB/s eta 0:00:01\r\u001b[K     |█████▎                          | 174kB 4.5MB/s eta 0:00:01\r\u001b[K     |█████▋                          | 184kB 4.5MB/s eta 0:00:01\r\u001b[K     |█████▉                          | 194kB 4.5MB/s eta 0:00:01\r\u001b[K     |██████▏                         | 204kB 4.5MB/s eta 0:00:01\r\u001b[K     |██████▌                         | 215kB 4.5MB/s eta 0:00:01\r\u001b[K     |██████▉                         | 225kB 4.5MB/s eta 0:00:01\r\u001b[K     |███████                         | 235kB 4.5MB/s eta 0:00:01\r\u001b[K     |███████▍                        | 245kB 4.5MB/s eta 0:00:01\r\u001b[K     |███████▊                        | 256kB 4.5MB/s eta 0:00:01\r\u001b[K     |████████                        | 266kB 4.5MB/s eta 0:00:01\r\u001b[K     |████████▍                       | 276kB 4.5MB/s eta 0:00:01\r\u001b[K     |████████▋                       | 286kB 4.5MB/s eta 0:00:01\r\u001b[K     |█████████                       | 296kB 4.5MB/s eta 0:00:01\r\u001b[K     |█████████▎                      | 307kB 4.5MB/s eta 0:00:01\r\u001b[K     |█████████▋                      | 317kB 4.5MB/s eta 0:00:01\r\u001b[K     |█████████▉                      | 327kB 4.5MB/s eta 0:00:01\r\u001b[K     |██████████▏                     | 337kB 4.5MB/s eta 0:00:01\r\u001b[K     |██████████▌                     | 348kB 4.5MB/s eta 0:00:01\r\u001b[K     |██████████▉                     | 358kB 4.5MB/s eta 0:00:01\r\u001b[K     |███████████▏                    | 368kB 4.5MB/s eta 0:00:01\r\u001b[K     |███████████▍                    | 378kB 4.5MB/s eta 0:00:01\r\u001b[K     |███████████▊                    | 389kB 4.5MB/s eta 0:00:01\r\u001b[K     |████████████                    | 399kB 4.5MB/s eta 0:00:01\r\u001b[K     |████████████▍                   | 409kB 4.5MB/s eta 0:00:01\r\u001b[K     |████████████▋                   | 419kB 4.5MB/s eta 0:00:01\r\u001b[K     |█████████████                   | 430kB 4.5MB/s eta 0:00:01\r\u001b[K     |█████████████▎                  | 440kB 4.5MB/s eta 0:00:01\r\u001b[K     |█████████████▋                  | 450kB 4.5MB/s eta 0:00:01\r\u001b[K     |██████████████                  | 460kB 4.5MB/s eta 0:00:01\r\u001b[K     |██████████████▏                 | 471kB 4.5MB/s eta 0:00:01\r\u001b[K     |██████████████▌                 | 481kB 4.5MB/s eta 0:00:01\r\u001b[K     |██████████████▉                 | 491kB 4.5MB/s eta 0:00:01\r\u001b[K     |███████████████▏                | 501kB 4.5MB/s eta 0:00:01\r\u001b[K     |███████████████▍                | 512kB 4.5MB/s eta 0:00:01\r\u001b[K     |███████████████▊                | 522kB 4.5MB/s eta 0:00:01\r\u001b[K     |████████████████                | 532kB 4.5MB/s eta 0:00:01\r\u001b[K     |████████████████▍               | 542kB 4.5MB/s eta 0:00:01\r\u001b[K     |████████████████▊               | 552kB 4.5MB/s eta 0:00:01\r\u001b[K     |█████████████████               | 563kB 4.5MB/s eta 0:00:01\r\u001b[K     |█████████████████▎              | 573kB 4.5MB/s eta 0:00:01\r\u001b[K     |█████████████████▋              | 583kB 4.5MB/s eta 0:00:01\r\u001b[K     |██████████████████              | 593kB 4.5MB/s eta 0:00:01\r\u001b[K     |██████████████████▏             | 604kB 4.5MB/s eta 0:00:01\r\u001b[K     |██████████████████▌             | 614kB 4.5MB/s eta 0:00:01\r\u001b[K     |██████████████████▉             | 624kB 4.5MB/s eta 0:00:01\r\u001b[K     |███████████████████▏            | 634kB 4.5MB/s eta 0:00:01\r\u001b[K     |███████████████████▌            | 645kB 4.5MB/s eta 0:00:01\r\u001b[K     |███████████████████▊            | 655kB 4.5MB/s eta 0:00:01\r\u001b[K     |████████████████████            | 665kB 4.5MB/s eta 0:00:01\r\u001b[K     |████████████████████▍           | 675kB 4.5MB/s eta 0:00:01\r\u001b[K     |████████████████████▊           | 686kB 4.5MB/s eta 0:00:01\r\u001b[K     |█████████████████████           | 696kB 4.5MB/s eta 0:00:01\r\u001b[K     |█████████████████████▎          | 706kB 4.5MB/s eta 0:00:01\r\u001b[K     |█████████████████████▋          | 716kB 4.5MB/s eta 0:00:01\r\u001b[K     |██████████████████████          | 727kB 4.5MB/s eta 0:00:01\r\u001b[K     |██████████████████████▎         | 737kB 4.5MB/s eta 0:00:01\r\u001b[K     |██████████████████████▌         | 747kB 4.5MB/s eta 0:00:01\r\u001b[K     |██████████████████████▉         | 757kB 4.5MB/s eta 0:00:01\r\u001b[K     |███████████████████████▏        | 768kB 4.5MB/s eta 0:00:01\r\u001b[K     |███████████████████████▌        | 778kB 4.5MB/s eta 0:00:01\r\u001b[K     |███████████████████████▊        | 788kB 4.5MB/s eta 0:00:01\r\u001b[K     |████████████████████████        | 798kB 4.5MB/s eta 0:00:01\r\u001b[K     |████████████████████████▍       | 808kB 4.5MB/s eta 0:00:01\r\u001b[K     |████████████████████████▊       | 819kB 4.5MB/s eta 0:00:01\r\u001b[K     |█████████████████████████       | 829kB 4.5MB/s eta 0:00:01\r\u001b[K     |█████████████████████████▎      | 839kB 4.5MB/s eta 0:00:01\r\u001b[K     |█████████████████████████▋      | 849kB 4.5MB/s eta 0:00:01\r\u001b[K     |██████████████████████████      | 860kB 4.5MB/s eta 0:00:01\r\u001b[K     |██████████████████████████▎     | 870kB 4.5MB/s eta 0:00:01\r\u001b[K     |██████████████████████████▌     | 880kB 4.5MB/s eta 0:00:01\r\u001b[K     |██████████████████████████▉     | 890kB 4.5MB/s eta 0:00:01\r\u001b[K     |███████████████████████████▏    | 901kB 4.5MB/s eta 0:00:01\r\u001b[K     |███████████████████████████▌    | 911kB 4.5MB/s eta 0:00:01\r\u001b[K     |███████████████████████████▉    | 921kB 4.5MB/s eta 0:00:01\r\u001b[K     |████████████████████████████    | 931kB 4.5MB/s eta 0:00:01\r\u001b[K     |████████████████████████████▍   | 942kB 4.5MB/s eta 0:00:01\r\u001b[K     |████████████████████████████▊   | 952kB 4.5MB/s eta 0:00:01\r\u001b[K     |█████████████████████████████   | 962kB 4.5MB/s eta 0:00:01\r\u001b[K     |█████████████████████████████▎  | 972kB 4.5MB/s eta 0:00:01\r\u001b[K     |█████████████████████████████▋  | 983kB 4.5MB/s eta 0:00:01\r\u001b[K     |██████████████████████████████  | 993kB 4.5MB/s eta 0:00:01\r\u001b[K     |██████████████████████████████▎ | 1.0MB 4.5MB/s eta 0:00:01\r\u001b[K     |██████████████████████████████▋ | 1.0MB 4.5MB/s eta 0:00:01\r\u001b[K     |██████████████████████████████▉ | 1.0MB 4.5MB/s eta 0:00:01\r\u001b[K     |███████████████████████████████▏| 1.0MB 4.5MB/s eta 0:00:01\r\u001b[K     |███████████████████████████████▌| 1.0MB 4.5MB/s eta 0:00:01\r\u001b[K     |███████████████████████████████▉| 1.1MB 4.5MB/s eta 0:00:01\r\u001b[K     |████████████████████████████████| 1.1MB 4.5MB/s \n",
            "\u001b[?25hRequirement already satisfied: numpy in /usr/local/lib/python3.6/dist-packages (from transformers) (1.18.5)\n",
            "Requirement already satisfied: tqdm>=4.27 in /usr/local/lib/python3.6/dist-packages (from transformers) (4.41.1)\n",
            "Requirement already satisfied: regex!=2019.12.17 in /usr/local/lib/python3.6/dist-packages (from transformers) (2019.12.20)\n",
            "Collecting sentencepiece!=0.1.92\n",
            "\u001b[?25l  Downloading https://files.pythonhosted.org/packages/d4/a4/d0a884c4300004a78cca907a6ff9a5e9fe4f090f5d95ab341c53d28cbc58/sentencepiece-0.1.91-cp36-cp36m-manylinux1_x86_64.whl (1.1MB)\n",
            "\u001b[K     |████████████████████████████████| 1.1MB 23.0MB/s \n",
            "\u001b[?25hRequirement already satisfied: requests in /usr/local/lib/python3.6/dist-packages (from transformers) (2.23.0)\n",
            "Requirement already satisfied: filelock in /usr/local/lib/python3.6/dist-packages (from transformers) (3.0.12)\n",
            "Requirement already satisfied: packaging in /usr/local/lib/python3.6/dist-packages (from transformers) (20.4)\n",
            "Requirement already satisfied: dataclasses; python_version < \"3.7\" in /usr/local/lib/python3.6/dist-packages (from transformers) (0.7)\n",
            "Collecting tokenizers==0.8.1.rc2\n",
            "\u001b[?25l  Downloading https://files.pythonhosted.org/packages/80/83/8b9fccb9e48eeb575ee19179e2bdde0ee9a1904f97de5f02d19016b8804f/tokenizers-0.8.1rc2-cp36-cp36m-manylinux1_x86_64.whl (3.0MB)\n",
            "\u001b[K     |████████████████████████████████| 3.0MB 40.4MB/s \n",
            "\u001b[?25hCollecting sacremoses\n",
            "\u001b[?25l  Downloading https://files.pythonhosted.org/packages/7d/34/09d19aff26edcc8eb2a01bed8e98f13a1537005d31e95233fd48216eed10/sacremoses-0.0.43.tar.gz (883kB)\n",
            "\u001b[K     |████████████████████████████████| 890kB 53.3MB/s \n",
            "\u001b[?25hRequirement already satisfied: chardet<4,>=3.0.2 in /usr/local/lib/python3.6/dist-packages (from requests->transformers) (3.0.4)\n",
            "Requirement already satisfied: urllib3!=1.25.0,!=1.25.1,<1.26,>=1.21.1 in /usr/local/lib/python3.6/dist-packages (from requests->transformers) (1.24.3)\n",
            "Requirement already satisfied: idna<3,>=2.5 in /usr/local/lib/python3.6/dist-packages (from requests->transformers) (2.10)\n",
            "Requirement already satisfied: certifi>=2017.4.17 in /usr/local/lib/python3.6/dist-packages (from requests->transformers) (2020.6.20)\n",
            "Requirement already satisfied: six in /usr/local/lib/python3.6/dist-packages (from packaging->transformers) (1.15.0)\n",
            "Requirement already satisfied: pyparsing>=2.0.2 in /usr/local/lib/python3.6/dist-packages (from packaging->transformers) (2.4.7)\n",
            "Requirement already satisfied: click in /usr/local/lib/python3.6/dist-packages (from sacremoses->transformers) (7.1.2)\n",
            "Requirement already satisfied: joblib in /usr/local/lib/python3.6/dist-packages (from sacremoses->transformers) (0.16.0)\n",
            "Building wheels for collected packages: sacremoses\n",
            "  Building wheel for sacremoses (setup.py) ... \u001b[?25l\u001b[?25hdone\n",
            "  Created wheel for sacremoses: filename=sacremoses-0.0.43-cp36-none-any.whl size=893257 sha256=6b12fa01f047d2259b30b374b17b094186f2d248009197f3d6aee27a3ec4ec2d\n",
            "  Stored in directory: /root/.cache/pip/wheels/29/3c/fd/7ce5c3f0666dab31a50123635e6fb5e19ceb42ce38d4e58f45\n",
            "Successfully built sacremoses\n",
            "Installing collected packages: sentencepiece, tokenizers, sacremoses, transformers\n",
            "Successfully installed sacremoses-0.0.43 sentencepiece-0.1.91 tokenizers-0.8.1rc2 transformers-3.3.1\n"
          ],
          "name": "stdout"
        }
      ]
    },
    {
      "cell_type": "markdown",
      "metadata": {
        "id": "ajPqg2_b1uKP"
      },
      "source": [
        "Import required packages."
      ]
    },
    {
      "cell_type": "code",
      "metadata": {
        "id": "tTcUvErH8qJS"
      },
      "source": [
        "import copy\n",
        "from pathlib import Path\n",
        "import time\n",
        "from typing import (Dict,\n",
        "                    List,\n",
        "                    Optional,\n",
        "                    Tuple,\n",
        "                    Union)\n",
        "\n",
        "import bson\n",
        "import matplotlib.pyplot as plt\n",
        "import numpy as np\n",
        "import pandas as pd\n",
        "import seaborn as sns\n",
        "from sklearn.model_selection import StratifiedShuffleSplit\n",
        "from sklearn.metrics import (average_precision_score,\n",
        "                             confusion_matrix,\n",
        "                             precision_recall_curve)\n",
        "import torch\n",
        "from torch.utils.data import (DataLoader,\n",
        "                              RandomSampler,\n",
        "                              SequentialSampler,\n",
        "                              TensorDataset)\n",
        "import transformers\n",
        "from transformers import (XLMRobertaForSequenceClassification,\n",
        "                          XLMRobertaTokenizer)"
      ],
      "execution_count": 3,
      "outputs": []
    },
    {
      "cell_type": "code",
      "metadata": {
        "id": "V5sJ7hq3xlhd",
        "outputId": "1565be77-12d3-4694-e876-7a355fc568ee",
        "colab": {
          "base_uri": "https://localhost:8080/",
          "height": 34
        }
      },
      "source": [
        "from google.colab import drive\n",
        "drive.mount('/content/drive')"
      ],
      "execution_count": 4,
      "outputs": [
        {
          "output_type": "stream",
          "text": [
            "Mounted at /content/drive\n"
          ],
          "name": "stdout"
        }
      ]
    },
    {
      "cell_type": "markdown",
      "metadata": {
        "id": "N2EKRsRysbLG"
      },
      "source": [
        "# Dataset download & load"
      ]
    },
    {
      "cell_type": "code",
      "metadata": {
        "id": "uNacfVs00k_B",
        "outputId": "e4b0cace-21d5-4551-a834-2a2d4c902387",
        "colab": {
          "base_uri": "https://localhost:8080/",
          "height": 208
        }
      },
      "source": [
        "!wget https://ml-coding-test.s3.amazonaws.com/claims.bson"
      ],
      "execution_count": 5,
      "outputs": [
        {
          "output_type": "stream",
          "text": [
            "--2020-10-17 11:52:03--  https://ml-coding-test.s3.amazonaws.com/claims.bson\n",
            "Resolving ml-coding-test.s3.amazonaws.com (ml-coding-test.s3.amazonaws.com)... 52.218.89.10\n",
            "Connecting to ml-coding-test.s3.amazonaws.com (ml-coding-test.s3.amazonaws.com)|52.218.89.10|:443... connected.\n",
            "HTTP request sent, awaiting response... 200 OK\n",
            "Length: 5735425 (5.5M) [binary/octet-stream]\n",
            "Saving to: ‘claims.bson’\n",
            "\n",
            "claims.bson         100%[===================>]   5.47M  4.46MB/s    in 1.2s    \n",
            "\n",
            "2020-10-17 11:52:05 (4.46 MB/s) - ‘claims.bson’ saved [5735425/5735425]\n",
            "\n"
          ],
          "name": "stdout"
        }
      ]
    },
    {
      "cell_type": "code",
      "metadata": {
        "id": "3coIBBZ113hs"
      },
      "source": [
        "FILE_PATH = '/content/claims.bson'\n",
        "\n",
        "with open(FILE_PATH,'rb') as f:\n",
        "    data = bson.decode_all(f.read())"
      ],
      "execution_count": 83,
      "outputs": []
    },
    {
      "cell_type": "markdown",
      "metadata": {
        "id": "qDx2sf2617q7"
      },
      "source": [
        "Mongo dump is loaded as a pandas DataFrame."
      ]
    },
    {
      "cell_type": "code",
      "metadata": {
        "id": "xI6Y3AiR2bIC"
      },
      "source": [
        "df = pd.DataFrame(data)"
      ],
      "execution_count": 84,
      "outputs": []
    },
    {
      "cell_type": "markdown",
      "metadata": {
        "id": "ZVyw2XcMLRIc"
      },
      "source": [
        "Problem´s target variable is defined."
      ]
    },
    {
      "cell_type": "code",
      "metadata": {
        "id": "DlekSM7dz9pT"
      },
      "source": [
        "target = 'claim'"
      ],
      "execution_count": 86,
      "outputs": []
    },
    {
      "cell_type": "markdown",
      "metadata": {
        "id": "pZj-AZtA9uZF"
      },
      "source": [
        "First of all, we need to split the data in three differents sets to simulate a real pipeline and also to avoid any syntom of data leackage on the test phase. In this case I have splitted the raw data in Train 80%, Validation 10% and Test 10% using a stratified manner to mantain the class ratio between each of them."
      ]
    },
    {
      "cell_type": "code",
      "metadata": {
        "id": "k5247PjO92yO"
      },
      "source": [
        "def get_split_sets(df: pd.DataFrame,\n",
        "                   target: str,\n",
        "                   val_test_size: float=0.2, # ratio for the val + test (10% + 10%)\n",
        "                   test_size: float=0.5,     # ratio between val and test (20% * 0.5)\n",
        "                   random_state: int=31):\n",
        "    sss_train_val = StratifiedShuffleSplit(test_size=val_test_size, random_state=random_state)\n",
        "\n",
        "    X = df.loc[:, df.columns != target]\n",
        "    y = df.loc[:, target]\n",
        "\n",
        "    train_idxs, val_test_idxs = [*sss_train_val.split(X, y)][0]\n",
        "\n",
        "    X_val_test = X.loc[val_test_idxs].reset_index(drop=True)\n",
        "    y_val_test = y.loc[val_test_idxs].reset_index(drop=True)\n",
        "\n",
        "    sss_test = StratifiedShuffleSplit(test_size=test_size, random_state=random_state)\n",
        "\n",
        "    val_idxs, test_idxs = [*sss_test.split(X_val_test, y_val_test)][0]\n",
        "\n",
        "    X_train = X.loc[train_idxs].reset_index(drop=True)\n",
        "    y_train = y.loc[train_idxs].reset_index(drop=True)\n",
        "\n",
        "    X_val = X_val_test.loc[val_idxs]\n",
        "    y_val = y_val_test.loc[val_idxs]\n",
        "\n",
        "    X_test = X_val_test.loc[test_idxs]\n",
        "    y_test = y_val_test.loc[test_idxs]\n",
        "\n",
        "    df_train = pd.concat([X_train, y_train], axis=1)\n",
        "    df_val = pd.concat([X_val, y_val], axis=1)\n",
        "    df_test = pd.concat([X_test, y_test], axis=1)\n",
        "\n",
        "    return df_train, df_val, df_test"
      ],
      "execution_count": 87,
      "outputs": []
    },
    {
      "cell_type": "code",
      "metadata": {
        "id": "CV9WI4VP-M4q"
      },
      "source": [
        "df_train, df_val, df_test = get_split_sets(df=df,\n",
        "                                           target=target,\n",
        "                                           val_test_size=0.2, # ratio for the val + test (10% + 10%)\n",
        "                                           test_size=0.5,     # ratio between val and test (20% * 0.5)\n",
        "                                           random_state=31)"
      ],
      "execution_count": 88,
      "outputs": []
    },
    {
      "cell_type": "code",
      "metadata": {
        "id": "A4EdFGIO-RCd",
        "outputId": "dc22ec67-c49e-4a73-faf7-e86afb42e6b2",
        "colab": {
          "base_uri": "https://localhost:8080/",
          "height": 69
        }
      },
      "source": [
        "for set_name, set_type, in zip(['Train', 'Val', 'Test'],\n",
        "                               [df_train, df_val, df_test]):\n",
        "  print(f'{set_name} shape: {set_type.shape}, Positive %: {(set_type[target].value_counts()[1]/set_type[target].shape[0])*100:.4f}%')"
      ],
      "execution_count": 89,
      "outputs": [
        {
          "output_type": "stream",
          "text": [
            "Train shape: (11482, 5), Positive %: 7.4203%\n",
            "Val shape: (1435, 5), Positive %: 7.3868%\n",
            "Test shape: (1436, 5), Positive %: 7.4513%\n"
          ],
          "name": "stdout"
        }
      ]
    },
    {
      "cell_type": "markdown",
      "metadata": {
        "id": "pRsIIDViswUO"
      },
      "source": [
        "# Exploratory Data Analysis (EDA)"
      ]
    },
    {
      "cell_type": "markdown",
      "metadata": {
        "id": "41PKX4G-2K0G"
      },
      "source": [
        "We can do a very simple EDA over the raw training data. In this case the dataset has an identifier column, three columns with each language text and a final column named claim which indicates that the text can be verified (1) or not (0)."
      ]
    },
    {
      "cell_type": "code",
      "metadata": {
        "id": "7oSJ_XG_2bz6",
        "outputId": "9b214619-cacf-4ea7-9b57-e3f07bc428a5",
        "colab": {
          "base_uri": "https://localhost:8080/",
          "height": 206
        }
      },
      "source": [
        "df_train.head()"
      ],
      "execution_count": 11,
      "outputs": [
        {
          "output_type": "execute_result",
          "data": {
            "text/html": [
              "<div>\n",
              "<style scoped>\n",
              "    .dataframe tbody tr th:only-of-type {\n",
              "        vertical-align: middle;\n",
              "    }\n",
              "\n",
              "    .dataframe tbody tr th {\n",
              "        vertical-align: top;\n",
              "    }\n",
              "\n",
              "    .dataframe thead th {\n",
              "        text-align: right;\n",
              "    }\n",
              "</style>\n",
              "<table border=\"1\" class=\"dataframe\">\n",
              "  <thead>\n",
              "    <tr style=\"text-align: right;\">\n",
              "      <th></th>\n",
              "      <th>_id</th>\n",
              "      <th>text_es</th>\n",
              "      <th>text_en</th>\n",
              "      <th>text_fr</th>\n",
              "      <th>claim</th>\n",
              "    </tr>\n",
              "  </thead>\n",
              "  <tbody>\n",
              "    <tr>\n",
              "      <th>0</th>\n",
              "      <td>5f80940cf95f926ca81a48bd</td>\n",
              "      <td>Han sido validados para los medios públicos p...</td>\n",
              "      <td>They have been validated for the public media...</td>\n",
              "      <td>Ils ont été validés pour les médias publics p...</td>\n",
              "      <td>1</td>\n",
              "    </tr>\n",
              "    <tr>\n",
              "      <th>1</th>\n",
              "      <td>5f80940cf95f926ca81a4a28</td>\n",
              "      <td>Señora Belarra, yo creo que el Gobierno está ...</td>\n",
              "      <td>Mrs Belarra, I think the government is coming...</td>\n",
              "      <td>Madame Belarra, je pense que le gouvernement ...</td>\n",
              "      <td>0</td>\n",
              "    </tr>\n",
              "    <tr>\n",
              "      <th>2</th>\n",
              "      <td>5f80940df95f926ca81a5302</td>\n",
              "      <td>Eso es cierto que en el mes de junio todavía ...</td>\n",
              "      <td>That is true that in June we still have about...</td>\n",
              "      <td>Il est vrai qu’en juin, nous avons encore env...</td>\n",
              "      <td>1</td>\n",
              "    </tr>\n",
              "    <tr>\n",
              "      <th>3</th>\n",
              "      <td>5f80940cf95f926ca81a3799</td>\n",
              "      <td>Acceda a todos los programas en RD Web.</td>\n",
              "      <td>Access all programs in RD Web.</td>\n",
              "      <td>Accédez à tous les programmes sur RD Web.</td>\n",
              "      <td>0</td>\n",
              "    </tr>\n",
              "    <tr>\n",
              "      <th>4</th>\n",
              "      <td>5f80940cf95f926ca81a4f52</td>\n",
              "      <td>Me consta.</td>\n",
              "      <td>I know.</td>\n",
              "      <td>Je sais.</td>\n",
              "      <td>0</td>\n",
              "    </tr>\n",
              "  </tbody>\n",
              "</table>\n",
              "</div>"
            ],
            "text/plain": [
              "                        _id  ... claim\n",
              "0  5f80940cf95f926ca81a48bd  ...     1\n",
              "1  5f80940cf95f926ca81a4a28  ...     0\n",
              "2  5f80940df95f926ca81a5302  ...     1\n",
              "3  5f80940cf95f926ca81a3799  ...     0\n",
              "4  5f80940cf95f926ca81a4f52  ...     0\n",
              "\n",
              "[5 rows x 5 columns]"
            ]
          },
          "metadata": {
            "tags": []
          },
          "execution_count": 11
        }
      ]
    },
    {
      "cell_type": "code",
      "metadata": {
        "id": "KxT9Ngao2eya",
        "outputId": "759fa1f9-0a3d-4f6b-b3df-a741e9dcfb8f",
        "colab": {
          "base_uri": "https://localhost:8080/",
          "height": 34
        }
      },
      "source": [
        "df_train.shape"
      ],
      "execution_count": 12,
      "outputs": [
        {
          "output_type": "execute_result",
          "data": {
            "text/plain": [
              "(11482, 5)"
            ]
          },
          "metadata": {
            "tags": []
          },
          "execution_count": 12
        }
      ]
    },
    {
      "cell_type": "code",
      "metadata": {
        "id": "RbM94M-K4GWs",
        "outputId": "f6892e9d-0e31-49a3-f409-e99bad0aef63",
        "colab": {
          "base_uri": "https://localhost:8080/",
          "height": 175
        }
      },
      "source": [
        "df_train.describe(include=['O'])"
      ],
      "execution_count": 13,
      "outputs": [
        {
          "output_type": "execute_result",
          "data": {
            "text/html": [
              "<div>\n",
              "<style scoped>\n",
              "    .dataframe tbody tr th:only-of-type {\n",
              "        vertical-align: middle;\n",
              "    }\n",
              "\n",
              "    .dataframe tbody tr th {\n",
              "        vertical-align: top;\n",
              "    }\n",
              "\n",
              "    .dataframe thead th {\n",
              "        text-align: right;\n",
              "    }\n",
              "</style>\n",
              "<table border=\"1\" class=\"dataframe\">\n",
              "  <thead>\n",
              "    <tr style=\"text-align: right;\">\n",
              "      <th></th>\n",
              "      <th>_id</th>\n",
              "      <th>text_es</th>\n",
              "      <th>text_en</th>\n",
              "      <th>text_fr</th>\n",
              "    </tr>\n",
              "  </thead>\n",
              "  <tbody>\n",
              "    <tr>\n",
              "      <th>count</th>\n",
              "      <td>11482</td>\n",
              "      <td>11482</td>\n",
              "      <td>11482</td>\n",
              "      <td>11482</td>\n",
              "    </tr>\n",
              "    <tr>\n",
              "      <th>unique</th>\n",
              "      <td>11482</td>\n",
              "      <td>11110</td>\n",
              "      <td>11060</td>\n",
              "      <td>11029</td>\n",
              "    </tr>\n",
              "    <tr>\n",
              "      <th>top</th>\n",
              "      <td>5f80940df95f926ca81a5a2b</td>\n",
              "      <td>Buenos días.</td>\n",
              "      <td>Good morning.</td>\n",
              "      <td>Bonjour.</td>\n",
              "    </tr>\n",
              "    <tr>\n",
              "      <th>freq</th>\n",
              "      <td>1</td>\n",
              "      <td>52</td>\n",
              "      <td>61</td>\n",
              "      <td>65</td>\n",
              "    </tr>\n",
              "  </tbody>\n",
              "</table>\n",
              "</div>"
            ],
            "text/plain": [
              "                             _id        text_es         text_en    text_fr\n",
              "count                      11482          11482           11482      11482\n",
              "unique                     11482          11110           11060      11029\n",
              "top     5f80940df95f926ca81a5a2b   Buenos días.   Good morning.   Bonjour.\n",
              "freq                           1             52              61         65"
            ]
          },
          "metadata": {
            "tags": []
          },
          "execution_count": 13
        }
      ]
    },
    {
      "cell_type": "markdown",
      "metadata": {
        "id": "rfJRApNT4I4O"
      },
      "source": [
        "No missing values are found."
      ]
    },
    {
      "cell_type": "code",
      "metadata": {
        "id": "rtwUzCiB4LwD",
        "outputId": "f3b00014-ac6e-4aef-d376-0f07c0ee5050",
        "colab": {
          "base_uri": "https://localhost:8080/",
          "height": 121
        }
      },
      "source": [
        "df_train.isnull().sum()"
      ],
      "execution_count": 14,
      "outputs": [
        {
          "output_type": "execute_result",
          "data": {
            "text/plain": [
              "_id        0\n",
              "text_es    0\n",
              "text_en    0\n",
              "text_fr    0\n",
              "claim      0\n",
              "dtype: int64"
            ]
          },
          "metadata": {
            "tags": []
          },
          "execution_count": 14
        }
      ]
    },
    {
      "cell_type": "markdown",
      "metadata": {
        "id": "o9wGAzFa3FFY"
      },
      "source": [
        "As expected, _id column must be removed, since this column is just an identifier, so it does not provide any information."
      ]
    },
    {
      "cell_type": "code",
      "metadata": {
        "id": "W1i6Zi0v4TBc"
      },
      "source": [
        "df_train.drop('_id', axis=1, inplace=True)"
      ],
      "execution_count": 15,
      "outputs": []
    },
    {
      "cell_type": "markdown",
      "metadata": {
        "id": "YrxqXcoc65y8"
      },
      "source": [
        "Since we are going to use a BERT arquitecture as a model, we can take a look at the distribution of the number of tokens of each language to gain some insights."
      ]
    },
    {
      "cell_type": "code",
      "metadata": {
        "id": "oyQT7e8P7-xJ",
        "outputId": "ea8519fd-f37d-4680-c933-25abecdcd7a4",
        "colab": {
          "base_uri": "https://localhost:8080/",
          "height": 66,
          "referenced_widgets": [
            "fcebf851531747529724a1380809dbf4",
            "74eccf6de6dc4624b63348fb7fad0d15",
            "a82138a542734dcdb7302390f32c1a79",
            "10d259a235804ba9a7efea3cedf7e915",
            "668d3be0322b42fb9f9d946bacc68a26",
            "51f107d1464b486d9c4ca2899aa7159e",
            "60e2a9385cd847d18ef7bafb8b8c099c",
            "9d7e8feef3054975ae718683335a93b2"
          ]
        }
      },
      "source": [
        "xlmr_tokenizer = XLMRobertaTokenizer.from_pretrained('xlm-roberta-base')"
      ],
      "execution_count": 16,
      "outputs": [
        {
          "output_type": "display_data",
          "data": {
            "application/vnd.jupyter.widget-view+json": {
              "model_id": "fcebf851531747529724a1380809dbf4",
              "version_minor": 0,
              "version_major": 2
            },
            "text/plain": [
              "HBox(children=(FloatProgress(value=0.0, description='Downloading', max=5069051.0, style=ProgressStyle(descript…"
            ]
          },
          "metadata": {
            "tags": []
          }
        },
        {
          "output_type": "stream",
          "text": [
            "\n"
          ],
          "name": "stdout"
        }
      ]
    },
    {
      "cell_type": "code",
      "metadata": {
        "id": "N884xUCn8h1j"
      },
      "source": [
        "def text_length(text, tokenizer):\n",
        "  return len(tokenizer.encode(text,\n",
        "                              add_special_tokens=True))"
      ],
      "execution_count": 17,
      "outputs": []
    },
    {
      "cell_type": "code",
      "metadata": {
        "id": "sX2C9v4f8vak"
      },
      "source": [
        "text_es_length = df_train['text_es'].apply(text_length, tokenizer=xlmr_tokenizer)\n",
        "text_en_length = df_train['text_en'].apply(text_length, tokenizer=xlmr_tokenizer)\n",
        "text_fr_length = df_train['text_fr'].apply(text_length, tokenizer=xlmr_tokenizer)"
      ],
      "execution_count": 18,
      "outputs": []
    },
    {
      "cell_type": "code",
      "metadata": {
        "id": "z1pY1yD4E3C3"
      },
      "source": [
        "df_tokenized_length = pd.DataFrame({text_es_length.name: text_es_length,\n",
        "                                    text_en_length.name: text_en_length,\n",
        "                                    text_fr_length.name: text_fr_length})"
      ],
      "execution_count": 19,
      "outputs": []
    },
    {
      "cell_type": "code",
      "metadata": {
        "id": "jxkW5_juFke7"
      },
      "source": [
        "df_tokenized_length['total'] = df_tokenized_length.sum(axis=1)"
      ],
      "execution_count": 20,
      "outputs": []
    },
    {
      "cell_type": "code",
      "metadata": {
        "id": "Q4tgqE53DMyt",
        "outputId": "902111ae-f18a-4464-f060-aeeeb17e3e07",
        "colab": {
          "base_uri": "https://localhost:8080/",
          "height": 518
        }
      },
      "source": [
        "fig, ax = plt.subplots(figsize=(16,8))\n",
        "sns.boxplot(data=df_tokenized_length.loc[:, df_tokenized_length.columns != 'total'], ax=ax)\n",
        "ax.set_ylabel('Number of tokens', fontdict={'size': 12})\n",
        "ax.set_xlabel('Language text', fontdict={'size': 12})"
      ],
      "execution_count": 21,
      "outputs": [
        {
          "output_type": "execute_result",
          "data": {
            "text/plain": [
              "Text(0.5, 0, 'Language text')"
            ]
          },
          "metadata": {
            "tags": []
          },
          "execution_count": 21
        },
        {
          "output_type": "display_data",
          "data": {
            "image/png": "[encoded data removed]",
            "text/plain": [
              "<Figure size 1152x576 with 1 Axes>"
            ]
          },
          "metadata": {
            "tags": [],
            "needs_background": "light"
          }
        }
      ]
    },
    {
      "cell_type": "code",
      "metadata": {
        "id": "zH-uFfsdHxdU",
        "outputId": "66e5b821-f01a-47da-8c71-889a78cdaf18",
        "colab": {
          "base_uri": "https://localhost:8080/",
          "height": 408
        }
      },
      "source": [
        "fig, ax = plt.subplots(figsize=(8,6))\n",
        "sns.boxplot(data=df_tokenized_length.loc[:, 'total'], ax=ax)\n",
        "ax.set_ylabel('Number of tokens per sentence', fontdict={'size': 12})\n",
        "ax.set_xlabel('Total', fontdict={'size': 12})"
      ],
      "execution_count": 22,
      "outputs": [
        {
          "output_type": "execute_result",
          "data": {
            "text/plain": [
              "Text(0.5, 0, 'Total')"
            ]
          },
          "metadata": {
            "tags": []
          },
          "execution_count": 22
        },
        {
          "output_type": "display_data",
          "data": {
            "image/png": "[encoded data removed]",
            "text/plain": [
              "<Figure size 576x432 with 1 Axes>"
            ]
          },
          "metadata": {
            "tags": [],
            "needs_background": "light"
          }
        }
      ]
    },
    {
      "cell_type": "code",
      "metadata": {
        "id": "m4wi_82qQ1dE",
        "outputId": "2a03df9c-b31f-410f-fa09-c6ff0ee19ad9",
        "colab": {
          "base_uri": "https://localhost:8080/",
          "height": 143
        }
      },
      "source": [
        "quartiles = df_tokenized_length.quantile([0.25,0.5,0.75])\n",
        "quartiles"
      ],
      "execution_count": 23,
      "outputs": [
        {
          "output_type": "execute_result",
          "data": {
            "text/html": [
              "<div>\n",
              "<style scoped>\n",
              "    .dataframe tbody tr th:only-of-type {\n",
              "        vertical-align: middle;\n",
              "    }\n",
              "\n",
              "    .dataframe tbody tr th {\n",
              "        vertical-align: top;\n",
              "    }\n",
              "\n",
              "    .dataframe thead th {\n",
              "        text-align: right;\n",
              "    }\n",
              "</style>\n",
              "<table border=\"1\" class=\"dataframe\">\n",
              "  <thead>\n",
              "    <tr style=\"text-align: right;\">\n",
              "      <th></th>\n",
              "      <th>text_es</th>\n",
              "      <th>text_en</th>\n",
              "      <th>text_fr</th>\n",
              "      <th>total</th>\n",
              "    </tr>\n",
              "  </thead>\n",
              "  <tbody>\n",
              "    <tr>\n",
              "      <th>0.25</th>\n",
              "      <td>12.0</td>\n",
              "      <td>12.0</td>\n",
              "      <td>14.0</td>\n",
              "      <td>38.0</td>\n",
              "    </tr>\n",
              "    <tr>\n",
              "      <th>0.50</th>\n",
              "      <td>20.0</td>\n",
              "      <td>20.0</td>\n",
              "      <td>24.0</td>\n",
              "      <td>65.0</td>\n",
              "    </tr>\n",
              "    <tr>\n",
              "      <th>0.75</th>\n",
              "      <td>33.0</td>\n",
              "      <td>32.0</td>\n",
              "      <td>39.0</td>\n",
              "      <td>104.0</td>\n",
              "    </tr>\n",
              "  </tbody>\n",
              "</table>\n",
              "</div>"
            ],
            "text/plain": [
              "      text_es  text_en  text_fr  total\n",
              "0.25     12.0     12.0     14.0   38.0\n",
              "0.50     20.0     20.0     24.0   65.0\n",
              "0.75     33.0     32.0     39.0  104.0"
            ]
          },
          "metadata": {
            "tags": []
          },
          "execution_count": 23
        }
      ]
    },
    {
      "cell_type": "code",
      "metadata": {
        "id": "hYB8yWzwAa7l",
        "outputId": "d94a88e1-fcbc-440a-9cd5-c4cd069d410d",
        "colab": {
          "base_uri": "https://localhost:8080/",
          "height": 733
        }
      },
      "source": [
        "fig, axs = plt.subplots(4, figsize=(14, 12), sharex=True, sharey=True)\n",
        "for ax, col in zip(axs, df_tokenized_length.columns):\n",
        "  data = df_tokenized_length.loc[:, col]\n",
        "  sns.histplot(data=data, kde=True, fill=False, ax=ax)\n",
        "  ax.set_title(col)\n",
        "  ax.axvline(x=np.median(data), color='r', ls='--', label='median')\n",
        "plt.xlabel(\"Number of tokens\", fontdict={'size': 12})\n",
        "plt.ylabel(\"Count\", fontdict={'size': 12})\n",
        "plt.show()"
      ],
      "execution_count": 24,
      "outputs": [
        {
          "output_type": "display_data",
          "data": {
            "image/png": "[encoded data removed]",
            "text/plain": [
              "<Figure size 1008x864 with 4 Axes>"
            ]
          },
          "metadata": {
            "tags": [],
            "needs_background": "light"
          }
        }
      ]
    },
    {
      "cell_type": "markdown",
      "metadata": {
        "id": "Z79wZbvFPyiM"
      },
      "source": [
        "From the figures above we can see that for each language the median is around 20 tokens per sentence for text_es and text_en, while for text_fr the median is around 24 tokens per sentence. The total median per sentence is 65 tokens."
      ]
    },
    {
      "cell_type": "markdown",
      "metadata": {
        "id": "79e1UiBRRwJZ"
      },
      "source": [
        "Knowing that we have different sentence lengths a max value where the sentence will be truncated or padded to complete the length must be setted.\n",
        "\n",
        "I propose to used the maximum value (which exclude outliers) for each language  given by Q3 (3rd quartile) + 1.5 * IQR (Interquartile range)."
      ]
    },
    {
      "cell_type": "code",
      "metadata": {
        "id": "80KH61iRTqAU",
        "outputId": "7070ed90-ca9d-47c4-e03c-1579c01f94b8",
        "colab": {
          "base_uri": "https://localhost:8080/",
          "height": 34
        }
      },
      "source": [
        "max_length = (quartiles.iloc[-1] + 1.5 * (quartiles.iloc[-1] - quartiles.iloc[0])).round().iloc[:-1].astype('int32').to_dict()\n",
        "max_length"
      ],
      "execution_count": 25,
      "outputs": [
        {
          "output_type": "execute_result",
          "data": {
            "text/plain": [
              "{'text_en': 62, 'text_es': 64, 'text_fr': 76}"
            ]
          },
          "metadata": {
            "tags": []
          },
          "execution_count": 25
        }
      ]
    },
    {
      "cell_type": "markdown",
      "metadata": {
        "id": "OlE8fYMW5Eka"
      },
      "source": [
        "To analize the target variable we can check the class distribution. Which clearly shows that we are dealing with an imbalanced problem."
      ]
    },
    {
      "cell_type": "code",
      "metadata": {
        "id": "R2q6sQui3Arb",
        "outputId": "55a814d4-dab5-428a-bb25-6f106e0d5c85",
        "colab": {
          "base_uri": "https://localhost:8080/",
          "height": 69
        }
      },
      "source": [
        "df_train[target].value_counts() / df_train[target].shape[0]"
      ],
      "execution_count": 26,
      "outputs": [
        {
          "output_type": "execute_result",
          "data": {
            "text/plain": [
              "0    0.925797\n",
              "1    0.074203\n",
              "Name: claim, dtype: float64"
            ]
          },
          "metadata": {
            "tags": []
          },
          "execution_count": 26
        }
      ]
    },
    {
      "cell_type": "code",
      "metadata": {
        "id": "XrYMjrS04hSa",
        "outputId": "fed105f1-ded4-490f-9be6-af632ce89eff",
        "colab": {
          "base_uri": "https://localhost:8080/",
          "height": 404
        }
      },
      "source": [
        "sns.catplot(x=target,\n",
        "            kind=\"count\",\n",
        "            data=df_train,\n",
        "            height=5,\n",
        "            aspect=2)\n",
        "plt.xlabel(\"Claim\", fontdict={'size': 14})\n",
        "plt.ylabel(\"Count\", fontdict={'size': 14})"
      ],
      "execution_count": 27,
      "outputs": [
        {
          "output_type": "execute_result",
          "data": {
            "text/plain": [
              "Text(-8.700000000000003, 0.5, 'Count')"
            ]
          },
          "metadata": {
            "tags": []
          },
          "execution_count": 27
        },
        {
          "output_type": "display_data",
          "data": {
            "image/png": "[encoded data removed]",
            "text/plain": [
              "<Figure size 720x360 with 1 Axes>"
            ]
          },
          "metadata": {
            "tags": [],
            "needs_background": "light"
          }
        }
      ]
    },
    {
      "cell_type": "markdown",
      "metadata": {
        "id": "nT9q4A5Is5aj"
      },
      "source": [
        "# Data preprocessing"
      ]
    },
    {
      "cell_type": "markdown",
      "metadata": {
        "id": "t9AaLFLtWB_H"
      },
      "source": [
        "In order to been able to use a BERT arquitecture we must tokenize each sentence. For this problem, we have three sentences per sample.\n",
        "\n",
        "The next function takes a sample, tokenize each sentence (three in this case), applies the required padding or gets truncated to the max_length (each language has a different value) argument and the resulting ids and masks are added to a common list. This means that for each sample we have a concatenation of the three sentences ids and masks."
      ]
    },
    {
      "cell_type": "code",
      "metadata": {
        "id": "3tOSxyfJ5LiP"
      },
      "source": [
        "def tokenize_sample(sample: pd.Series,\n",
        "                    max_length: Dict,\n",
        "                    tokenizer: transformers.tokenization_utils.PreTrainedTokenizer,\n",
        "                    **kwargs: Dict):\n",
        "  input_ids = []\n",
        "  attn_masks = []\n",
        "  for col, text in sample.items():\n",
        "      encoded = tokenizer.encode_plus(text,\n",
        "                                      add_special_tokens=kwargs.get('add_special_tokens', True),\n",
        "                                      max_length=max_length.get(col, 100),\n",
        "                                      truncation=kwargs.get('truncation', True),\n",
        "                                      padding=kwargs.get('padding', 'max_length'))\n",
        "      input_ids.extend(encoded['input_ids'])\n",
        "      attn_masks.extend(encoded['attention_mask'])\n",
        "  return torch.tensor(input_ids), torch.tensor(attn_masks)"
      ],
      "execution_count": 29,
      "outputs": []
    },
    {
      "cell_type": "markdown",
      "metadata": {
        "id": "boo1bypsXwr0"
      },
      "source": [
        "The next function just iterate through a given dataset and applies the explained procedure to each sample. Finally it outputs an ids tensor, a mask tensor and the labels."
      ]
    },
    {
      "cell_type": "code",
      "metadata": {
        "id": "9J5aXFDL-rVN"
      },
      "source": [
        "def preprocess_set(X: pd.DataFrame,\n",
        "                   y: pd.DataFrame,\n",
        "                   max_length: Dict,\n",
        "                   tokenizer: transformers.tokenization_utils.PreTrainedTokenizer,\n",
        "                   **kwargs: Dict):\n",
        "\n",
        "  input_ids = []\n",
        "  attn_masks = []\n",
        "\n",
        "  for row in X.itertuples(index=False):\n",
        "      row_input_ids, row_attn_masks = tokenize_sample(sample=pd.Series(row),\n",
        "                                                      max_length=max_length,\n",
        "                                                      tokenizer=tokenizer,\n",
        "                                                      **kwargs)\n",
        "      input_ids.append(row_input_ids)\n",
        "      attn_masks.append(row_attn_masks)\n",
        "\n",
        "  input_ids = torch.stack(input_ids)\n",
        "  attn_masks = torch.stack(attn_masks)\n",
        "  labels = torch.tensor(y.to_numpy(), dtype=torch.float32).unsqueeze(1)\n",
        "\n",
        "  return input_ids, attn_masks, labels"
      ],
      "execution_count": 30,
      "outputs": []
    },
    {
      "cell_type": "markdown",
      "metadata": {
        "id": "ucoG0rPZZPbe"
      },
      "source": [
        "To avoid GPU memory problems, a batch size of 64 is setted."
      ]
    },
    {
      "cell_type": "code",
      "metadata": {
        "id": "lDUfUJ28rRbp"
      },
      "source": [
        "batch_size = 64"
      ],
      "execution_count": 31,
      "outputs": []
    },
    {
      "cell_type": "markdown",
      "metadata": {
        "id": "weXGwyoHZa87"
      },
      "source": [
        "For each dataset a Dataloader is created, the only difference between them is that the train dataloader takes samples in random order, while validation and test dataloader take samples in sequential order."
      ]
    },
    {
      "cell_type": "code",
      "metadata": {
        "id": "CwUzghDmqYrL"
      },
      "source": [
        "X_train = df_train.loc[:, df_train.columns != target]\n",
        "y_train = df_train[target]\n",
        "\n",
        "train_input_ids, train_attn_masks, train_labels = preprocess_set(X=X_train,\n",
        "                                                                 y=y_train,\n",
        "                                                                 max_length=max_length,\n",
        "                                                                 tokenizer=xlmr_tokenizer)\n",
        "\n",
        "train_dataset = TensorDataset(train_input_ids,\n",
        "                              train_attn_masks,\n",
        "                              train_labels)\n",
        "\n",
        "train_dataloader = DataLoader(train_dataset,\n",
        "                              sampler=RandomSampler(train_dataset),\n",
        "                              batch_size=batch_size)"
      ],
      "execution_count": 32,
      "outputs": []
    },
    {
      "cell_type": "markdown",
      "metadata": {
        "id": "ZsoKAIpQ4g6B"
      },
      "source": [
        "Drop _id for validation and test sets."
      ]
    },
    {
      "cell_type": "code",
      "metadata": {
        "id": "xSH2rshW4a3A"
      },
      "source": [
        "df_val.drop('_id', axis=1, inplace=True)\n",
        "df_test.drop('_id', axis=1, inplace=True)"
      ],
      "execution_count": 33,
      "outputs": []
    },
    {
      "cell_type": "code",
      "metadata": {
        "id": "3H2PVcSkrVXB"
      },
      "source": [
        "X_val = df_val.loc[:, df_val.columns != target]\n",
        "y_val = df_val[target]\n",
        "\n",
        "val_input_ids, val_attn_masks, val_labels = preprocess_set(X=X_val,\n",
        "                                                           y=y_val,\n",
        "                                                           max_length=max_length,\n",
        "                                                           tokenizer=xlmr_tokenizer)\n",
        "\n",
        "val_dataset = TensorDataset(val_input_ids,\n",
        "                            val_attn_masks,\n",
        "                            val_labels)\n",
        "\n",
        "val_dataloader = DataLoader(val_dataset,\n",
        "                            sampler=SequentialSampler(val_dataset),\n",
        "                            batch_size=batch_size*4)"
      ],
      "execution_count": 34,
      "outputs": []
    },
    {
      "cell_type": "code",
      "metadata": {
        "id": "9_NJQjORrvah"
      },
      "source": [
        "X_test = df_test.loc[:, df_test.columns != target]\n",
        "y_test = df_test[target]\n",
        "\n",
        "test_input_ids, test_attn_masks, test_labels = preprocess_set(X=X_test,\n",
        "                                                              y=y_test,\n",
        "                                                              max_length=max_length,\n",
        "                                                              tokenizer=xlmr_tokenizer)\n",
        "\n",
        "test_dataset = TensorDataset(test_input_ids,\n",
        "                             test_attn_masks,\n",
        "                             test_labels)\n",
        "\n",
        "test_dataloader = DataLoader(test_dataset,\n",
        "                             sampler=SequentialSampler(test_dataset),\n",
        "                             batch_size=batch_size*4)"
      ],
      "execution_count": 35,
      "outputs": []
    },
    {
      "cell_type": "code",
      "metadata": {
        "id": "TS2xpts8ZK0B",
        "outputId": "3ac2d59b-54ba-432d-dadc-e26a84561543",
        "colab": {
          "base_uri": "https://localhost:8080/",
          "height": 34
        }
      },
      "source": [
        "dataset_sizes = {'train': len(train_dataset),\n",
        "                 'val': len(val_dataset),\n",
        "                 'test': len(test_dataset)}\n",
        "dataset_sizes"
      ],
      "execution_count": 36,
      "outputs": [
        {
          "output_type": "execute_result",
          "data": {
            "text/plain": [
              "{'test': 1436, 'train': 11482, 'val': 1435}"
            ]
          },
          "metadata": {
            "tags": []
          },
          "execution_count": 36
        }
      ]
    },
    {
      "cell_type": "markdown",
      "metadata": {
        "id": "KCGmbgzptEw4"
      },
      "source": [
        "# Training & Validation"
      ]
    },
    {
      "cell_type": "code",
      "metadata": {
        "id": "qq1cPd7ru14B",
        "outputId": "3bb126c9-6fbf-4564-d44e-566b87253a89",
        "colab": {
          "base_uri": "https://localhost:8080/",
          "height": 34
        }
      },
      "source": [
        "device = torch.device('cuda' if torch.cuda.is_available() else 'cpu')\n",
        "device"
      ],
      "execution_count": 37,
      "outputs": [
        {
          "output_type": "execute_result",
          "data": {
            "text/plain": [
              "device(type='cuda')"
            ]
          },
          "metadata": {
            "tags": []
          },
          "execution_count": 37
        }
      ]
    },
    {
      "cell_type": "code",
      "metadata": {
        "id": "G50mgf2qYGZG",
        "outputId": "c56c1561-2ee6-4761-8d9f-70f40bec5d3b",
        "colab": {
          "base_uri": "https://localhost:8080/",
          "height": 34
        }
      },
      "source": [
        "!nvidia-smi -L"
      ],
      "execution_count": 38,
      "outputs": [
        {
          "output_type": "stream",
          "text": [
            "GPU 0: Tesla T4 (UUID: GPU-e84da946-bcad-fe4a-41c1-2f913ad5e1c8)\n"
          ],
          "name": "stdout"
        }
      ]
    },
    {
      "cell_type": "markdown",
      "metadata": {
        "id": "N4ppZbWEaw48"
      },
      "source": [
        "For the model selection, I have deciced to use XLM-RoBERTa [1] which is a promising multilingual language model that has been pretrained on one hundred languages and is based on the BERT arquitecture.\n",
        "\n",
        "NOTE: In transformers documentation num_labels=1 refers to a regression problem assuming that you are given the labels at the same time as the input ids and masks, because it uses a predefined loss function inside the model. In this case num_labels=1 because I dont feed the model with the labels, so the model outputs logits and I can define an own loss function (Binary Cross Entropy in this case)."
      ]
    },
    {
      "cell_type": "code",
      "metadata": {
        "id": "-nJIg0FbwtG_",
        "outputId": "4e888171-9bb0-40ca-ddd7-20794d33ca47",
        "colab": {
          "base_uri": "https://localhost:8080/",
          "height": 223,
          "referenced_widgets": [
            "adfa94dc4463437ebf95dc3a09df322f",
            "ee4e39b8f3f24422889a2be5e295c8b6",
            "bddae3b60dbf4f8e9a4c35635bedb131",
            "7b5954833c5741c5854343d3242a5d34",
            "e1351bc830c6483fb19b566652c619a5",
            "e9fb3af150c14831bbefa788f586aea5",
            "e81183f5176a4029b9c13295de79009f",
            "e5756b9b505c4ea3b4c1574e5360cc68",
            "bebe1d733e4e447dba1d83bf474e5f7e",
            "cc28beca3de643d1896f7c16b9ecf201",
            "ad12d35c9e5b4063b16a333a36c63bb1",
            "4418a7796eea40de89f63bae311cf12b",
            "114fe3cfa10a4c2c9189fd93813a0f95",
            "183b20f90a984dbb87643e49684de36b",
            "ce8ab35fc77842efa5bffdcdb7b43a5e",
            "99d90d5fe00140cb8a94e7c4f1d2c0aa"
          ]
        }
      },
      "source": [
        "model = XLMRobertaForSequenceClassification.from_pretrained('xlm-roberta-base',\n",
        "                                                            num_labels=1)  # Check NOTE"
      ],
      "execution_count": 39,
      "outputs": [
        {
          "output_type": "display_data",
          "data": {
            "application/vnd.jupyter.widget-view+json": {
              "model_id": "adfa94dc4463437ebf95dc3a09df322f",
              "version_minor": 0,
              "version_major": 2
            },
            "text/plain": [
              "HBox(children=(FloatProgress(value=0.0, description='Downloading', max=512.0, style=ProgressStyle(description_…"
            ]
          },
          "metadata": {
            "tags": []
          }
        },
        {
          "output_type": "stream",
          "text": [
            "\n"
          ],
          "name": "stdout"
        },
        {
          "output_type": "display_data",
          "data": {
            "application/vnd.jupyter.widget-view+json": {
              "model_id": "bebe1d733e4e447dba1d83bf474e5f7e",
              "version_minor": 0,
              "version_major": 2
            },
            "text/plain": [
              "HBox(children=(FloatProgress(value=0.0, description='Downloading', max=1115590446.0, style=ProgressStyle(descr…"
            ]
          },
          "metadata": {
            "tags": []
          }
        },
        {
          "output_type": "stream",
          "text": [
            "\n"
          ],
          "name": "stdout"
        },
        {
          "output_type": "stream",
          "text": [
            "Some weights of the model checkpoint at xlm-roberta-base were not used when initializing XLMRobertaForSequenceClassification: ['lm_head.bias', 'lm_head.dense.weight', 'lm_head.dense.bias', 'lm_head.layer_norm.weight', 'lm_head.layer_norm.bias', 'lm_head.decoder.weight', 'roberta.pooler.dense.weight', 'roberta.pooler.dense.bias']\n",
            "- This IS expected if you are initializing XLMRobertaForSequenceClassification from the checkpoint of a model trained on another task or with another architecture (e.g. initializing a BertForSequenceClassification model from a BertForPretraining model).\n",
            "- This IS NOT expected if you are initializing XLMRobertaForSequenceClassification from the checkpoint of a model that you expect to be exactly identical (initializing a BertForSequenceClassification model from a BertForSequenceClassification model).\n",
            "Some weights of XLMRobertaForSequenceClassification were not initialized from the model checkpoint at xlm-roberta-base and are newly initialized: ['classifier.dense.weight', 'classifier.dense.bias', 'classifier.out_proj.weight', 'classifier.out_proj.bias']\n",
            "You should probably TRAIN this model on a down-stream task to be able to use it for predictions and inference.\n"
          ],
          "name": "stderr"
        }
      ]
    },
    {
      "cell_type": "markdown",
      "metadata": {
        "id": "8m_8iZfPF8z7"
      },
      "source": [
        "Below are defined the required functions for the training and validation phases."
      ]
    },
    {
      "cell_type": "code",
      "metadata": {
        "id": "37Efj428tIEJ"
      },
      "source": [
        "def train(model: transformers.modeling_roberta.RobertaForSequenceClassification,\n",
        "          device: torch.device,\n",
        "          train_dataloader: torch.utils.data.dataloader.DataLoader,\n",
        "          optimizer: torch.optim,\n",
        "          criterion: torch.nn.modules.loss,\n",
        "          scheduler: torch.optim.lr_scheduler,\n",
        "          batch_print: int=1) -> Tuple[List[float],\n",
        "                                       List[float]]:\n",
        "\n",
        "    model.train() # Set training mode\n",
        "\n",
        "    for i, (input_ids, attn_masks, labels) in enumerate(train_dataloader, start=1):\n",
        "        input_ids = input_ids.to(device)\n",
        "        attn_masks = attn_masks.to(device)\n",
        "        labels = labels.to(device)\n",
        "\n",
        "        optimizer.zero_grad()\n",
        "\n",
        "        outputs = model(input_ids,\n",
        "                        attention_mask=attn_masks)[0]\n",
        "        pred_probs = torch.sigmoid(outputs)\n",
        "        loss = criterion(outputs, labels)\n",
        "\n",
        "        loss.backward()\n",
        "\n",
        "        torch.nn.utils.clip_grad_norm_(model.parameters(), 1.0) # Prevent exploding gradients\n",
        "\n",
        "        optimizer.step()\n",
        "        scheduler.step()\n",
        "\n",
        "        if i % batch_print == 0:\n",
        "            loss_value = loss.item() / input_ids.size(0)\n",
        "            print(f'Batch {i} - train loss: {loss_value:.4f}')"
      ],
      "execution_count": 40,
      "outputs": []
    },
    {
      "cell_type": "code",
      "metadata": {
        "id": "QKRHepTYVroo"
      },
      "source": [
        "def test(model: transformers.modeling_roberta.RobertaForSequenceClassification, \n",
        "         device: torch.device,\n",
        "         dataloader: torch.utils.data.dataloader.DataLoader,\n",
        "         dataset_size: int) -> Tuple[float,\n",
        "                                          float,\n",
        "                                          Tuple[np.ndarray, np.ndarray],\n",
        "                                          np.ndarray,\n",
        "                                          np.ndarray]:\n",
        "\n",
        "    model.eval() # Set eval mode\n",
        "\n",
        "    epoch_loss, epoch_pred_probs, epoch_labels = [], [], []\n",
        "\n",
        "    with torch.no_grad():\n",
        "        for i, (input_ids, attn_masks, labels) in enumerate(dataloader, start=1):\n",
        "            input_ids = input_ids.to(device)\n",
        "            attn_masks = attn_masks.to(device)\n",
        "            labels = labels.to(device)\n",
        "\n",
        "            outputs = model(input_ids,\n",
        "                            attention_mask=attn_masks)[0]\n",
        "            pred_probs = torch.sigmoid(outputs)\n",
        "            loss = criterion(outputs, labels)\n",
        "\n",
        "            pred_probs = pred_probs.flatten().cpu().data.numpy()\n",
        "            labels = labels.flatten().cpu().data.numpy()\n",
        "\n",
        "            epoch_loss.append(loss.item())\n",
        "            epoch_pred_probs.append(pred_probs)\n",
        "            epoch_labels.append(labels)\n",
        "\n",
        "    epoch_labels = np.concatenate(epoch_labels).ravel()\n",
        "    epoch_pred_probs = np.concatenate(epoch_pred_probs).ravel()\n",
        "    precision, recall, thresholds = precision_recall_curve(epoch_labels,\n",
        "                                                           epoch_pred_probs,\n",
        "                                                           pos_label=1)\n",
        "\n",
        "    epoch_loss = np.sum(epoch_loss) / dataset_size\n",
        "    epoch_ap = average_precision_score(epoch_labels,\n",
        "                                       epoch_pred_probs)\n",
        "    epoch_pr_curve = (precision, recall, thresholds)\n",
        "\n",
        "    return epoch_loss, epoch_ap, epoch_pr_curve, epoch_pred_probs, epoch_labels"
      ],
      "execution_count": 41,
      "outputs": []
    },
    {
      "cell_type": "code",
      "metadata": {
        "id": "id1z9VcDYLoG"
      },
      "source": [
        "def train_model(model: transformers.modeling_roberta.RobertaForSequenceClassification,\n",
        "                device: torch.device,\n",
        "                train_dataloader: torch.utils.data.dataloader.DataLoader,\n",
        "                val_dataloader: torch.utils.data.dataloader.DataLoader,\n",
        "                optimizer: torch.optim,\n",
        "                criterion: torch.nn.modules.loss,\n",
        "                scheduler: torch.optim.lr_scheduler,\n",
        "                dataset_sizes: dict,\n",
        "                num_epochs: int=100,\n",
        "                batch_print: int=1):\n",
        "    since = time.time()\n",
        "\n",
        "    best_model_wts = copy.deepcopy(model.state_dict())\n",
        "    best_ap = 0.0\n",
        "    best_fpr = None\n",
        "    best_tpr = None\n",
        "    best_thresholds = None\n",
        "    best_time = None\n",
        "    best_epoch = None\n",
        "    history_train_loss = []\n",
        "    history_val_loss = []\n",
        "    history_train_ap = []\n",
        "    history_val_ap = []\n",
        "\n",
        "    test_dataset_size = len(test_dataloader)\n",
        "\n",
        "    for epoch in range(1, num_epochs + 1):\n",
        "        print(f'Epoch {epoch}/{num_epochs}')\n",
        "        print('-' * 10)\n",
        "\n",
        "        # Train model\n",
        "        train(model,\n",
        "              device,\n",
        "              train_dataloader,\n",
        "              optimizer,\n",
        "              criterion,\n",
        "              scheduler,\n",
        "              batch_print=batch_print)\n",
        "        \n",
        "        # Evaluate training data (this phase is not mandatory to be done, as it significantly increases the computational cost)\n",
        "        epoch_train_loss, epoch_train_ap, _, _, _ = test(model=model,\n",
        "                                                         device=device,\n",
        "                                                         dataloader=train_dataloader,\n",
        "                                                         dataset_size=dataset_sizes['train'])\n",
        "        history_train_loss.append(epoch_train_loss)\n",
        "        history_train_ap.append(epoch_train_ap)\n",
        "\n",
        "        print(f'\\ntrain loss: {epoch_train_loss:.4f} Average precision: {epoch_train_ap:.4f}\\n')\n",
        "        \n",
        "        # Evaluate validation data\n",
        "        epoch_val_loss, epoch_val_ap, epoch_val_pr_curve, _, _ = test(model=model,\n",
        "                                                                      device=device,\n",
        "                                                                      dataloader=val_dataloader,\n",
        "                                                                      dataset_size=dataset_sizes['val'])\n",
        "        history_val_loss.append(epoch_val_loss)\n",
        "        history_val_ap.append(epoch_val_ap)\n",
        "\n",
        "        print(f'val loss: {epoch_val_loss:.4f} Average precision: {epoch_val_ap:.4f}\\n')\n",
        "\n",
        "        if epoch_val_ap > best_ap:\n",
        "            best_ap = epoch_val_ap\n",
        "            best_model_wts = copy.deepcopy(model.state_dict())\n",
        "            best_precision, best_recall, best_thresholds = epoch_val_pr_curve\n",
        "            best_time = time.time() - since\n",
        "            best_epoch = epoch\n",
        "\n",
        "    time_elapsed = time.time() - since\n",
        "    print(f'Training completed in {time_elapsed // 60:.0f}m {time_elapsed % 60:.0f}s')\n",
        "    print(f'Best val Average precision: {best_ap:.4f} found at epoch {best_epoch} in {best_time // 60:.0f}m {best_time % 60:.0f}s')\n",
        "\n",
        "    history = {'train_loss': history_train_loss,\n",
        "               'val_loss': history_val_loss,\n",
        "               'train_ap': history_train_ap,\n",
        "               'val_ap': history_val_ap,\n",
        "               'best_val_ap': best_ap,\n",
        "               'best_val_epoch': best_epoch}\n",
        "\n",
        "    # load best model weights\n",
        "    model.load_state_dict(best_model_wts)\n",
        "\n",
        "    pr_curve = (best_precision, best_recall, best_thresholds)\n",
        "\n",
        "    return model, pr_curve, history"
      ],
      "execution_count": 42,
      "outputs": []
    },
    {
      "cell_type": "markdown",
      "metadata": {
        "id": "3nSNmN8ic398"
      },
      "source": [
        "Instead of training from scratch the whole model, we will train only the last part of it, the classifier part (fine-tuning)."
      ]
    },
    {
      "cell_type": "code",
      "metadata": {
        "id": "Hk266_DTYQUQ"
      },
      "source": [
        "for param in model.base_model.parameters():\n",
        "    param.requires_grad = False\n",
        "\n",
        "model = model.to(device)"
      ],
      "execution_count": 43,
      "outputs": []
    },
    {
      "cell_type": "markdown",
      "metadata": {
        "id": "-T5ooAijdNu0"
      },
      "source": [
        "As mentioned above, this is a highly imbalanced problem, so we can use a class weight value. This allows to balance the cost function by multiplying, in this case the positive class, by the ratio between the number of negative samples and positive ones (calculated only on the training set)."
      ]
    },
    {
      "cell_type": "code",
      "metadata": {
        "id": "FzxgG079YV4c",
        "outputId": "7d41242d-8fea-418e-c74f-054a1c38cb00",
        "colab": {
          "base_uri": "https://localhost:8080/",
          "height": 34
        }
      },
      "source": [
        "class_count = y_train.value_counts().to_numpy()\n",
        "class_weight = torch.tensor(class_count[0] / class_count[1])\n",
        "print(f'Negative / Positive ratio: {class_weight:.4f}')\n",
        "\n",
        "criterion = torch.nn.BCEWithLogitsLoss(reduction='sum',\n",
        "                                       pos_weight=class_weight)"
      ],
      "execution_count": 44,
      "outputs": [
        {
          "output_type": "stream",
          "text": [
            "Negative / Positive ratio: 12.4765\n"
          ],
          "name": "stdout"
        }
      ]
    },
    {
      "cell_type": "markdown",
      "metadata": {
        "id": "kHRYZl3JgHVf"
      },
      "source": [
        "In this case, 16 epochs are being used. Although later we will only keep the weights of the best metric on the validation set. AdamW [2] and OneCycleLR [3] are used during the training phase to provide a good way to reach results as fast as possible.\n",
        "\n",
        "It has not been mentioned before, but the metric to be maximized will be the Average precision score (AP), which takes into account different thresholds.\n",
        "\n",
        "NOTE: Area under the curve (AUC) is discarded since we are dealing with a highly imbalanced problem, so the result would be extremely missleading."
      ]
    },
    {
      "cell_type": "code",
      "metadata": {
        "id": "YrHQMN-5YwKi"
      },
      "source": [
        "epochs = 16\n",
        "\n",
        "optimizer = torch.optim.AdamW(filter(lambda p: p.requires_grad, model.parameters()),\n",
        "                              lr=1e-4) # [2]\n",
        "\n",
        "scheduler = torch.optim.lr_scheduler.OneCycleLR(optimizer,\n",
        "                                                max_lr=1e-3,\n",
        "                                                steps_per_epoch=len(train_dataloader),\n",
        "                                                epochs=epochs) # [3]"
      ],
      "execution_count": 45,
      "outputs": []
    },
    {
      "cell_type": "markdown",
      "metadata": {
        "id": "WwXImC-orPfS"
      },
      "source": [
        " train_model function is used to train the model with the defined configuration (criterion, optimizer, scheduler, epochs, etc)."
      ]
    },
    {
      "cell_type": "code",
      "metadata": {
        "id": "3SKvOaG3Y2Gu",
        "outputId": "d61a501e-8068-424e-b112-a81a0f08308f",
        "colab": {
          "base_uri": "https://localhost:8080/",
          "height": 1000
        }
      },
      "source": [
        "model, pr_curve, history = train_model(model=model,\n",
        "                                       device=device,\n",
        "                                       train_dataloader=train_dataloader,\n",
        "                                       val_dataloader=val_dataloader,\n",
        "                                       optimizer=optimizer,\n",
        "                                       criterion=criterion,\n",
        "                                       scheduler=scheduler,\n",
        "                                       dataset_sizes=dataset_sizes,\n",
        "                                       num_epochs=epochs,\n",
        "                                       batch_print=20)"
      ],
      "execution_count": 46,
      "outputs": [
        {
          "output_type": "stream",
          "text": [
            "Epoch 1/16\n",
            "----------\n",
            "Batch 20 - train loss: 1.7247\n",
            "Batch 40 - train loss: 1.1270\n",
            "Batch 60 - train loss: 1.6324\n",
            "Batch 80 - train loss: 1.2543\n",
            "Batch 100 - train loss: 1.4731\n",
            "Batch 120 - train loss: 1.1334\n",
            "Batch 140 - train loss: 1.4789\n",
            "Batch 160 - train loss: 1.0933\n",
            "Batch 180 - train loss: 1.3466\n",
            "\n",
            "train loss: 1.2316 Average precision: 0.3002\n",
            "\n",
            "val loss: 1.2334 Average precision: 0.2903\n",
            "\n",
            "Epoch 2/16\n",
            "----------\n",
            "Batch 20 - train loss: 1.2271\n",
            "Batch 40 - train loss: 1.1284\n",
            "Batch 60 - train loss: 1.9420\n",
            "Batch 80 - train loss: 0.9118\n",
            "Batch 100 - train loss: 0.7976\n",
            "Batch 120 - train loss: 1.0731\n",
            "Batch 140 - train loss: 1.3352\n",
            "Batch 160 - train loss: 1.1050\n",
            "Batch 180 - train loss: 0.5865\n",
            "\n",
            "train loss: 1.1669 Average precision: 0.4441\n",
            "\n",
            "val loss: 1.1763 Average precision: 0.4216\n",
            "\n",
            "Epoch 3/16\n",
            "----------\n",
            "Batch 20 - train loss: 0.7460\n",
            "Batch 40 - train loss: 1.2354\n",
            "Batch 60 - train loss: 1.4585\n",
            "Batch 80 - train loss: 0.9443\n",
            "Batch 100 - train loss: 1.2641\n",
            "Batch 120 - train loss: 1.0580\n",
            "Batch 140 - train loss: 1.0467\n",
            "Batch 160 - train loss: 1.3424\n",
            "Batch 180 - train loss: 0.9775\n",
            "\n",
            "train loss: 1.0713 Average precision: 0.4849\n",
            "\n",
            "val loss: 1.0939 Average precision: 0.4482\n",
            "\n",
            "Epoch 4/16\n",
            "----------\n",
            "Batch 20 - train loss: 1.1506\n",
            "Batch 40 - train loss: 1.1955\n",
            "Batch 60 - train loss: 0.6035\n",
            "Batch 80 - train loss: 1.1930\n",
            "Batch 100 - train loss: 0.8326\n",
            "Batch 120 - train loss: 1.4978\n",
            "Batch 140 - train loss: 1.4313\n",
            "Batch 160 - train loss: 0.8771\n",
            "Batch 180 - train loss: 1.3900\n",
            "\n",
            "train loss: 1.0825 Average precision: 0.4876\n",
            "\n",
            "val loss: 1.1177 Average precision: 0.4378\n",
            "\n",
            "Epoch 5/16\n",
            "----------\n",
            "Batch 20 - train loss: 0.8581\n",
            "Batch 40 - train loss: 1.2142\n",
            "Batch 60 - train loss: 1.1415\n",
            "Batch 80 - train loss: 1.1782\n",
            "Batch 100 - train loss: 1.3064\n",
            "Batch 120 - train loss: 1.1670\n",
            "Batch 140 - train loss: 1.6169\n",
            "Batch 160 - train loss: 1.0803\n",
            "Batch 180 - train loss: 0.6792\n",
            "\n",
            "train loss: 0.8251 Average precision: 0.5073\n",
            "\n",
            "val loss: 0.8675 Average precision: 0.4649\n",
            "\n",
            "Epoch 6/16\n",
            "----------\n",
            "Batch 20 - train loss: 1.1544\n",
            "Batch 40 - train loss: 1.2992\n",
            "Batch 60 - train loss: 1.4783\n",
            "Batch 80 - train loss: 1.1272\n",
            "Batch 100 - train loss: 1.3526\n",
            "Batch 120 - train loss: 0.7205\n",
            "Batch 140 - train loss: 0.9843\n",
            "Batch 160 - train loss: 0.8613\n",
            "Batch 180 - train loss: 0.8219\n",
            "\n",
            "train loss: 0.9927 Average precision: 0.4996\n",
            "\n",
            "val loss: 1.0284 Average precision: 0.4574\n",
            "\n",
            "Epoch 7/16\n",
            "----------\n",
            "Batch 20 - train loss: 0.9945\n",
            "Batch 40 - train loss: 0.7319\n",
            "Batch 60 - train loss: 1.5926\n",
            "Batch 80 - train loss: 0.8755\n",
            "Batch 100 - train loss: 1.8158\n",
            "Batch 120 - train loss: 1.2432\n",
            "Batch 140 - train loss: 0.5480\n",
            "Batch 160 - train loss: 0.9594\n",
            "Batch 180 - train loss: 0.2286\n",
            "\n",
            "train loss: 0.8159 Average precision: 0.5143\n",
            "\n",
            "val loss: 0.8786 Average precision: 0.4756\n",
            "\n",
            "Epoch 8/16\n",
            "----------\n",
            "Batch 20 - train loss: 0.9641\n",
            "Batch 40 - train loss: 0.9650\n",
            "Batch 60 - train loss: 1.9222\n",
            "Batch 80 - train loss: 0.9057\n",
            "Batch 100 - train loss: 0.6992\n",
            "Batch 120 - train loss: 0.4245\n",
            "Batch 140 - train loss: 0.9695\n",
            "Batch 160 - train loss: 0.6292\n",
            "Batch 180 - train loss: 1.2620\n",
            "\n",
            "train loss: 0.7641 Average precision: 0.5075\n",
            "\n",
            "val loss: 0.8114 Average precision: 0.4508\n",
            "\n",
            "Epoch 9/16\n",
            "----------\n",
            "Batch 20 - train loss: 1.7239\n",
            "Batch 40 - train loss: 0.8666\n",
            "Batch 60 - train loss: 0.7246\n",
            "Batch 80 - train loss: 1.1635\n",
            "Batch 100 - train loss: 1.1803\n",
            "Batch 120 - train loss: 0.7570\n",
            "Batch 140 - train loss: 0.9940\n",
            "Batch 160 - train loss: 0.9428\n",
            "Batch 180 - train loss: 1.4868\n",
            "\n",
            "train loss: 0.7315 Average precision: 0.4900\n",
            "\n",
            "val loss: 0.7893 Average precision: 0.4331\n",
            "\n",
            "Epoch 10/16\n",
            "----------\n",
            "Batch 20 - train loss: 0.8906\n",
            "Batch 40 - train loss: 1.5149\n",
            "Batch 60 - train loss: 1.0872\n",
            "Batch 80 - train loss: 0.7702\n",
            "Batch 100 - train loss: 2.4534\n",
            "Batch 120 - train loss: 1.2658\n",
            "Batch 140 - train loss: 0.8759\n",
            "Batch 160 - train loss: 0.8689\n",
            "Batch 180 - train loss: 0.7828\n",
            "\n",
            "train loss: 0.7224 Average precision: 0.4986\n",
            "\n",
            "val loss: 0.7765 Average precision: 0.4426\n",
            "\n",
            "Epoch 11/16\n",
            "----------\n",
            "Batch 20 - train loss: 1.1581\n",
            "Batch 40 - train loss: 0.6491\n",
            "Batch 60 - train loss: 0.9626\n",
            "Batch 80 - train loss: 0.6502\n",
            "Batch 100 - train loss: 0.6682\n",
            "Batch 120 - train loss: 0.9344\n",
            "Batch 140 - train loss: 0.6376\n",
            "Batch 160 - train loss: 0.9952\n",
            "Batch 180 - train loss: 1.2157\n",
            "\n",
            "train loss: 0.7474 Average precision: 0.4986\n",
            "\n",
            "val loss: 0.7964 Average precision: 0.4444\n",
            "\n",
            "Epoch 12/16\n",
            "----------\n",
            "Batch 20 - train loss: 0.8153\n",
            "Batch 40 - train loss: 1.6029\n",
            "Batch 60 - train loss: 0.7554\n",
            "Batch 80 - train loss: 0.9371\n",
            "Batch 100 - train loss: 1.0450\n",
            "Batch 120 - train loss: 1.6360\n",
            "Batch 140 - train loss: 0.5157\n",
            "Batch 160 - train loss: 1.4639\n",
            "Batch 180 - train loss: 0.3068\n",
            "\n",
            "train loss: 0.7874 Average precision: 0.5084\n",
            "\n",
            "val loss: 0.8794 Average precision: 0.4548\n",
            "\n",
            "Epoch 13/16\n",
            "----------\n",
            "Batch 20 - train loss: 0.8486\n",
            "Batch 40 - train loss: 1.6504\n",
            "Batch 60 - train loss: 0.7190\n",
            "Batch 80 - train loss: 1.1487\n",
            "Batch 100 - train loss: 1.0985\n",
            "Batch 120 - train loss: 0.8552\n",
            "Batch 140 - train loss: 1.6171\n",
            "Batch 160 - train loss: 0.5738\n",
            "Batch 180 - train loss: 0.5235\n",
            "\n",
            "train loss: 0.7203 Average precision: 0.5082\n",
            "\n",
            "val loss: 0.7718 Average precision: 0.4557\n",
            "\n",
            "Epoch 14/16\n",
            "----------\n",
            "Batch 20 - train loss: 1.0267\n",
            "Batch 40 - train loss: 0.9915\n",
            "Batch 60 - train loss: 0.8941\n",
            "Batch 80 - train loss: 1.4311\n",
            "Batch 100 - train loss: 0.8016\n",
            "Batch 120 - train loss: 0.7548\n",
            "Batch 140 - train loss: 0.5931\n",
            "Batch 160 - train loss: 0.7966\n",
            "Batch 180 - train loss: 0.6050\n",
            "\n",
            "train loss: 0.7587 Average precision: 0.5103\n",
            "\n",
            "val loss: 0.8033 Average precision: 0.4584\n",
            "\n",
            "Epoch 15/16\n",
            "----------\n",
            "Batch 20 - train loss: 0.8469\n",
            "Batch 40 - train loss: 1.2533\n",
            "Batch 60 - train loss: 1.0423\n",
            "Batch 80 - train loss: 0.5490\n",
            "Batch 100 - train loss: 1.0636\n",
            "Batch 120 - train loss: 1.1531\n",
            "Batch 140 - train loss: 0.7586\n",
            "Batch 160 - train loss: 0.9197\n",
            "Batch 180 - train loss: 0.5003\n",
            "\n",
            "train loss: 0.7131 Average precision: 0.5096\n",
            "\n",
            "val loss: 0.7658 Average precision: 0.4574\n",
            "\n",
            "Epoch 16/16\n",
            "----------\n",
            "Batch 20 - train loss: 0.3169\n",
            "Batch 40 - train loss: 0.7175\n",
            "Batch 60 - train loss: 1.7691\n",
            "Batch 80 - train loss: 1.3271\n",
            "Batch 100 - train loss: 1.2907\n",
            "Batch 120 - train loss: 1.5721\n",
            "Batch 140 - train loss: 1.2309\n",
            "Batch 160 - train loss: 0.6974\n",
            "Batch 180 - train loss: 0.9299\n",
            "\n",
            "train loss: 0.7126 Average precision: 0.5094\n",
            "\n",
            "val loss: 0.7654 Average precision: 0.4566\n",
            "\n",
            "Training completed in 120m 56s\n",
            "Best val Average precision: 0.4756 found at epoch 7 in 52m 52s\n"
          ],
          "name": "stdout"
        }
      ]
    },
    {
      "cell_type": "markdown",
      "metadata": {
        "id": "qa7YnU4CrVm_"
      },
      "source": [
        "Best model found during the traning phase is stored on a given path."
      ]
    },
    {
      "cell_type": "code",
      "metadata": {
        "id": "nFbsw47wdodH"
      },
      "source": [
        "path_model = Path('/tmp/model_JaimeCespedesSisniega.plk')\n",
        "torch.save(model, path_model)"
      ],
      "execution_count": 47,
      "outputs": []
    },
    {
      "cell_type": "markdown",
      "metadata": {
        "id": "Hisp92NBDINF"
      },
      "source": [
        "In the next figures, we can see the loss for both datasets (train and validation) along the number of epochs, as well as the metric that we are trying to maximize (Average precision score).\n",
        "\n",
        "No signs of overfitting are detected and the AP metric seems to reach a plateau after epoch 12."
      ]
    },
    {
      "cell_type": "code",
      "metadata": {
        "id": "vpXWKmlGdlJI",
        "outputId": "8204aadc-36b5-45be-facd-b3f2433f663a",
        "colab": {
          "base_uri": "https://localhost:8080/",
          "height": 526
        }
      },
      "source": [
        "fig, axs = plt.subplots(1, 2, figsize=(24, 8))\n",
        "\n",
        "lw = 2\n",
        "\n",
        "x_train_loss = np.linspace(1, epochs, len(history['train_loss']))\n",
        "\n",
        "axs[0].plot(x_train_loss, history['train_loss'], color='darkorange', lw=lw, label='Train')\n",
        "axs[0].plot(np.linspace(1, epochs, len(history['val_loss'])), history['val_loss'], color='navy', lw=lw, label='Validation')\n",
        "axs[0].set_xlabel('Epochs', fontdict={'size': 16})\n",
        "axs[0].set_ylabel('Loss', fontdict={'size': 16})\n",
        "axs[0].set_xlim(1, epochs)\n",
        "axs[0].set_title('Loss', fontdict={'size': 18})\n",
        "axs[0].legend(loc=\"upper right\", prop={'size': 12})\n",
        "axs[0].tick_params(axis='both', which='major', labelsize=14)\n",
        "\n",
        "x_train_auc = np.linspace(1, epochs, len(history['train_ap']))\n",
        "\n",
        "axs[1].plot(x_train_auc, history['train_ap'], color='darkorange', lw=lw, label='Train')\n",
        "axs[1].plot(np.linspace(1, epochs, len(history['val_ap'])), history['val_ap'], color='navy', lw=lw, label='Validation')\n",
        "axs[1].set_xlabel('Epochs', fontdict={'size': 16})\n",
        "axs[1].set_ylabel('Average precision score', fontdict={'size': 16})\n",
        "axs[1].set_ylim(0.0, 1.0)\n",
        "axs[0].set_xlim(1, epochs)\n",
        "axs[1].set_title('Average precision score', fontdict={'size': 18})\n",
        "axs[1].legend(loc=\"lower right\", prop={'size': 12})\n",
        "axs[1].tick_params(axis='both', which='major', labelsize=14)\n",
        "\n",
        "plt.show()"
      ],
      "execution_count": 48,
      "outputs": [
        {
          "output_type": "display_data",
          "data": {
            "image/png": "[encoded data removed]",
            "text/plain": [
              "<Figure size 1728x576 with 2 Axes>"
            ]
          },
          "metadata": {
            "tags": [],
            "needs_background": "light"
          }
        }
      ]
    },
    {
      "cell_type": "markdown",
      "metadata": {
        "id": "JXYdhpXJl8aF"
      },
      "source": [
        "Optimal threshold value is computed using precision, recall and theshold values.\n",
        "This value will be used for validation and test sets.\n",
        "\n",
        "In addition, F1 score is also calculated."
      ]
    },
    {
      "cell_type": "code",
      "metadata": {
        "id": "c6yu3_PGUi5E"
      },
      "source": [
        "precision, recall, thresholds = pr_curve\n",
        "\n",
        "f1_score = (2 * precision * recall) / (precision + recall)\n",
        "\n",
        "optimal_idx = np.argmax(f1_score)\n",
        "optimal_threshold = thresholds[optimal_idx]"
      ],
      "execution_count": 49,
      "outputs": []
    },
    {
      "cell_type": "markdown",
      "metadata": {
        "id": "AOhBwe7FnB4z"
      },
      "source": [
        "Precision-Recall Curve is plotted. AP score approaches a value of 0.5 for the validation set."
      ]
    },
    {
      "cell_type": "code",
      "metadata": {
        "id": "hCdULtIxUXM_"
      },
      "source": [
        "def plot_precision_recall_curve(precision: np.ndarray,\n",
        "                                recall: np.ndarray,\n",
        "                                thresholds: np.ndarray,\n",
        "                                ap_score: np.float64,\n",
        "                                title: str,\n",
        "                                optimal_threshold: Optional[np.float64]=None):\n",
        "    fig, ax = plt.subplots(figsize=(12, 8))\n",
        "    lw = 2\n",
        "    if optimal_threshold:\n",
        "        ax.annotate(f'Optimal threshold = {optimal_threshold:.4f}',\n",
        "                    xy=(recall[optimal_idx], precision[optimal_idx]),\n",
        "                    xytext=(0.7, 0.5),\n",
        "                    arrowprops=dict(arrowstyle=\"->\"),\n",
        "                    horizontalalignment='right', verticalalignment='top', size=10)\n",
        "    plt.plot(recall, precision, color='darkorange', lw=lw, label=f'Average precision score = {ap_score:.4f}')\n",
        "    plt.xlim([0.0, 1.0])\n",
        "    plt.ylim([0.0, 1.05])\n",
        "    plt.xlabel('Recall', fontdict={'size': 16})\n",
        "    plt.ylabel('Precision', fontdict={'size': 16})\n",
        "    plt.title(title, fontdict={'size': 18})\n",
        "    plt.legend(loc=\"lower right\", prop={'size': 12})\n",
        "    ax.tick_params(axis='both', which='major', labelsize=14)\n",
        "\n",
        "    plt.show()"
      ],
      "execution_count": 54,
      "outputs": []
    },
    {
      "cell_type": "code",
      "metadata": {
        "id": "8PAl1pO8CCue",
        "outputId": "114353ae-3f9d-48fd-db22-dfed6b7920eb",
        "colab": {
          "base_uri": "https://localhost:8080/",
          "height": 526
        }
      },
      "source": [
        "plot_precision_recall_curve(precision=precision,\n",
        "                            recall=recall,\n",
        "                            thresholds=thresholds,\n",
        "                            title='Validation: Precision-Recall Curve',\n",
        "                            optimal_threshold=optimal_threshold,\n",
        "                            ap_score=history['best_val_ap'])"
      ],
      "execution_count": 55,
      "outputs": [
        {
          "output_type": "display_data",
          "data": {
            "image/png": "[encoded data removed]",
            "text/plain": [
              "<Figure size 864x576 with 1 Axes>"
            ]
          },
          "metadata": {
            "tags": [],
            "needs_background": "light"
          }
        }
      ]
    },
    {
      "cell_type": "code",
      "metadata": {
        "id": "_znvsW_K-u06",
        "outputId": "c2c3f22b-7ebb-4c38-ba3d-952839eb18f0",
        "colab": {
          "base_uri": "https://localhost:8080/",
          "height": 104
        }
      },
      "source": [
        "print(f'Validation:\\n - Precision: {precision[optimal_idx]:.4f}\\n - Recall: {recall[optimal_idx]:.4f}\\n - Average precision: {history[\"best_val_ap\"]:.4f}\\n - F1 score: {f1_score[optimal_idx]:.4f}')"
      ],
      "execution_count": 56,
      "outputs": [
        {
          "output_type": "stream",
          "text": [
            "Validation:\n",
            " - Precision: 0.4000\n",
            " - Recall: 0.6226\n",
            " - Average precision: 0.4756\n",
            " - F1 score: 0.4871\n"
          ],
          "name": "stdout"
        }
      ]
    },
    {
      "cell_type": "markdown",
      "metadata": {
        "id": "mZQDXn-mtJKj"
      },
      "source": [
        "# Evaluation"
      ]
    },
    {
      "cell_type": "markdown",
      "metadata": {
        "id": "57ilk14LQ6u4"
      },
      "source": [
        "Finally, test set is evaluated. We are doing a similar procedure that what we did for the validation set, the only different is that we do not calculate a new \"optimal threshold\" for the test set, we just use the \"optimal threshold\" obtained on the validation set."
      ]
    },
    {
      "cell_type": "code",
      "metadata": {
        "id": "8k7v0ewWtMMI"
      },
      "source": [
        "_, test_ap, test_pr_curve, test_pred_probs, test_true_labels = test(model=model,\n",
        "                                                                    device=device,\n",
        "                                                                    dataloader=test_dataloader,\n",
        "                                                                    dataset_size=dataset_sizes['test'])\n",
        "\n",
        "test_precision, test_recall, test_thresholds = test_pr_curve\n",
        "test_f1_score = (2 * test_precision * test_recall) / (test_precision + test_recall)"
      ],
      "execution_count": 57,
      "outputs": []
    },
    {
      "cell_type": "code",
      "metadata": {
        "id": "Zml2vzFJCYXB",
        "outputId": "962f6531-6393-41b5-8f0e-5d89a84a8626",
        "colab": {
          "base_uri": "https://localhost:8080/",
          "height": 526
        }
      },
      "source": [
        "plot_precision_recall_curve(precision=test_precision,\n",
        "                            recall=test_recall,\n",
        "                            thresholds=test_thresholds,\n",
        "                            title='Test: Precision-Recall Curve',\n",
        "                            ap_score=test_ap)"
      ],
      "execution_count": 58,
      "outputs": [
        {
          "output_type": "display_data",
          "data": {
            "image/png": "[encoded data removed]",
            "text/plain": [
              "<Figure size 864x576 with 1 Axes>"
            ]
          },
          "metadata": {
            "tags": [],
            "needs_background": "light"
          }
        }
      ]
    },
    {
      "cell_type": "code",
      "metadata": {
        "id": "ik_DHjyUdxyI"
      },
      "source": [
        "test_pred_labels = test_pred_probs > optimal_threshold\n",
        "cm = confusion_matrix(test_true_labels, test_pred_labels)"
      ],
      "execution_count": 63,
      "outputs": []
    },
    {
      "cell_type": "code",
      "metadata": {
        "id": "Nwm9aS3i4zoR"
      },
      "source": [
        "test_precision_threshold = cm[1, 1] / (cm[1, 1] + cm[0, 1])\n",
        "test_recall_threshold = cm[1, 1] / (cm[1, 1] + cm[1, 0])\n",
        "\n",
        "\n",
        "test_f1_score_threshold = (2 * test_precision_threshold * test_recall_threshold) / (test_precision_threshold + test_recall_threshold)"
      ],
      "execution_count": 72,
      "outputs": []
    },
    {
      "cell_type": "code",
      "metadata": {
        "id": "s3Qh72Ae6qp1",
        "outputId": "a15a1dd4-8766-4450-9f72-8e72e963a462",
        "colab": {
          "base_uri": "https://localhost:8080/",
          "height": 104
        }
      },
      "source": [
        "print(f'Test:\\n - Precision: {test_precision_threshold:.4f}\\n - Recall: {test_recall_threshold:.4f}\\n - Average precision: {test_ap:.4f}\\n - F1 score: {test_f1_score_threshold:.4f}')"
      ],
      "execution_count": 73,
      "outputs": [
        {
          "output_type": "stream",
          "text": [
            "Test:\n",
            " - Precision: 0.3824\n",
            " - Recall: 0.6075\n",
            " - Average precision: 0.4797\n",
            " - F1 score: 0.4693\n"
          ],
          "name": "stdout"
        }
      ]
    },
    {
      "cell_type": "markdown",
      "metadata": {
        "id": "EaAquSgLP-LB"
      },
      "source": [
        "Confusion matrix with the predicted values is plotted. We can see that the majority of the wrong predictions come from the false positives predicted by the model."
      ]
    },
    {
      "cell_type": "code",
      "metadata": {
        "id": "uc96nQBYdzKh",
        "outputId": "2b20aab2-7c92-4980-c7ad-b99d80cfdf35",
        "colab": {
          "base_uri": "https://localhost:8080/",
          "height": 547
        }
      },
      "source": [
        "labels = ['Negative', 'Positive']\n",
        "\n",
        "fig, ax = plt.subplots(figsize=(12, 8))\n",
        "heatmap = sns.heatmap(cm, annot=True, fmt='g', annot_kws={\"size\": 16})\n",
        "heatmap.yaxis.set_ticklabels(heatmap.yaxis.get_ticklabels(), rotation=0, ha='right', fontsize=16)\n",
        "heatmap.xaxis.set_ticklabels(heatmap.xaxis.get_ticklabels(), rotation=0, ha='right', fontsize=16)\n",
        "ax.xaxis.set_ticklabels(labels)\n",
        "ax.yaxis.set_ticklabels(labels)\n",
        "plt.ylabel('True', fontdict={'size': 17})\n",
        "plt.xlabel('Predicted', fontdict={'size': 17})\n",
        "plt.title('Confusion Matrix', fontdict={'size': 18})"
      ],
      "execution_count": 74,
      "outputs": [
        {
          "output_type": "execute_result",
          "data": {
            "text/plain": [
              "Text(0.5, 1.0, 'Confusion Matrix')"
            ]
          },
          "metadata": {
            "tags": []
          },
          "execution_count": 74
        },
        {
          "output_type": "display_data",
          "data": {
            "image/png": "[encoded data removed]",
            "text/plain": [
              "<Figure size 864x576 with 2 Axes>"
            ]
          },
          "metadata": {
            "tags": [],
            "needs_background": "light"
          }
        }
      ]
    },
    {
      "cell_type": "markdown",
      "metadata": {
        "id": "Econ3gwIQPw_"
      },
      "source": [
        "Finally, a csv with the sentences, true labels and predicted probabilites is generated."
      ]
    },
    {
      "cell_type": "code",
      "metadata": {
        "id": "QeZwAprfGrfM"
      },
      "source": [
        "df = pd.DataFrame({'text_es': X_test['text_es'],\n",
        "                   'label': y_test,\n",
        "                   'pred': test_pred_probs})\n",
        "df.to_csv('/tmp/test_pred_JaimeCespedesSisniega.csv',\n",
        "          index=False)"
      ],
      "execution_count": 65,
      "outputs": []
    },
    {
      "cell_type": "markdown",
      "metadata": {
        "id": "IWI3SNKktOBz"
      },
      "source": [
        "# Conclusions"
      ]
    },
    {
      "cell_type": "markdown",
      "metadata": {
        "id": "zhLuTQvH88kp"
      },
      "source": [
        "We can indicate that the precision of pointing out a sentence as verifiable is a complex task using a reduced set of data, as it is the case, since in the confusion matrix of the test set we can see how a relatively high amount of false positives are produced.\n",
        "\n",
        "In the tests carried out, only one type of model has been tested and no hyperparameter tuning has been made. The use of several models or carryng out an adequate hyperparameter tuning phase could have a positive impact on the metrics used, as well as a higher computational cost."
      ]
    },
    {
      "cell_type": "markdown",
      "metadata": {
        "id": "ac7UXwenVLTe"
      },
      "source": [
        "# **References**\n",
        "\n",
        "[1] Conneau, Alexis, et al. \"Unsupervised cross-lingual representation learning at scale.\" arXiv preprint arXiv:1911.02116 (2019).\n",
        "\n",
        "[2] Loshchilov, Ilya, and Frank Hutter. \"Decoupled weight decay regularization.\" arXiv preprint arXiv:1711.05101 (2017).\n",
        "\n",
        "[3] Smith, Leslie N., and Nicholay Topin. \"Super-convergence: Very fast training of neural networks using large learning rates.\" Artificial Intelligence and Machine Learning for Multi-Domain Operations Applications. Vol. 11006. International Society for Optics and Photonics, 2019."
      ]
    }
  ]
}